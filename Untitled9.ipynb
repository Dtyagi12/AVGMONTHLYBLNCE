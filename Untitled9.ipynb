{
  "nbformat": 4,
  "nbformat_minor": 0,
  "metadata": {
    "colab": {
      "name": "Untitled9.ipynb",
      "provenance": [],
      "collapsed_sections": [],
      "authorship_tag": "ABX9TyMAFhGTju+d2A+uev5pBXTc",
      "include_colab_link": true
    },
    "kernelspec": {
      "name": "python3",
      "display_name": "Python 3"
    },
    "language_info": {
      "name": "python"
    }
  },
  "cells": [
    {
      "cell_type": "markdown",
      "metadata": {
        "id": "view-in-github",
        "colab_type": "text"
      },
      "source": [
        "<a href=\"https://colab.research.google.com/github/Dtyagi12/AVGMONTHLYBLNCE/blob/main/Untitled9.ipynb\" target=\"_parent\"><img src=\"https://colab.research.google.com/assets/colab-badge.svg\" alt=\"Open In Colab\"/></a>"
      ]
    },
    {
      "cell_type": "code",
      "execution_count": 83,
      "metadata": {
        "id": "_KcbvSuY47ys"
      },
      "outputs": [],
      "source": [
        "import pandas as pd\n",
        "import numpy as np\n",
        "import matplotlib.pyplot as plt\n",
        "import seaborn as sns"
      ]
    },
    {
      "cell_type": "code",
      "source": [
        "df = pd.read_csv(\"/content/Account_AVG.csv\")\n",
        "df"
      ],
      "metadata": {
        "colab": {
          "base_uri": "https://localhost:8080/",
          "height": 424
        },
        "id": "UlmnMF155Mjs",
        "outputId": "21bd30ab-edc4-4954-832b-997d07b63308"
      },
      "execution_count": 84,
      "outputs": [
        {
          "output_type": "execute_result",
          "data": {
            "text/plain": [
              "      Month        CR         DR  Average Monthly Balance\n",
              "0         1    8340.0   62602.81                289124.91\n",
              "1         2       NaN   80394.00                222409.55\n",
              "2         3  603460.0  525981.50                205588.15\n",
              "3         4   45000.0  276470.20                136312.85\n",
              "4         5  200000.0  157816.11                116684.81\n",
              "...     ...       ...        ...                      ...\n",
              "1177      8  224454.0  214633.89                138135.96\n",
              "1178      9   30635.0   16197.70                110126.64\n",
              "1179     10       NaN   13632.70                103382.93\n",
              "1180     11  143340.0    7856.50                115585.51\n",
              "1181     12    4473.0   23678.00                -17023.45\n",
              "\n",
              "[1182 rows x 4 columns]"
            ],
            "text/html": [
              "\n",
              "  <div id=\"df-46f2c097-0e11-4c0c-b3e5-9d0c86408525\">\n",
              "    <div class=\"colab-df-container\">\n",
              "      <div>\n",
              "<style scoped>\n",
              "    .dataframe tbody tr th:only-of-type {\n",
              "        vertical-align: middle;\n",
              "    }\n",
              "\n",
              "    .dataframe tbody tr th {\n",
              "        vertical-align: top;\n",
              "    }\n",
              "\n",
              "    .dataframe thead th {\n",
              "        text-align: right;\n",
              "    }\n",
              "</style>\n",
              "<table border=\"1\" class=\"dataframe\">\n",
              "  <thead>\n",
              "    <tr style=\"text-align: right;\">\n",
              "      <th></th>\n",
              "      <th>Month</th>\n",
              "      <th>CR</th>\n",
              "      <th>DR</th>\n",
              "      <th>Average Monthly Balance</th>\n",
              "    </tr>\n",
              "  </thead>\n",
              "  <tbody>\n",
              "    <tr>\n",
              "      <th>0</th>\n",
              "      <td>1</td>\n",
              "      <td>8340.0</td>\n",
              "      <td>62602.81</td>\n",
              "      <td>289124.91</td>\n",
              "    </tr>\n",
              "    <tr>\n",
              "      <th>1</th>\n",
              "      <td>2</td>\n",
              "      <td>NaN</td>\n",
              "      <td>80394.00</td>\n",
              "      <td>222409.55</td>\n",
              "    </tr>\n",
              "    <tr>\n",
              "      <th>2</th>\n",
              "      <td>3</td>\n",
              "      <td>603460.0</td>\n",
              "      <td>525981.50</td>\n",
              "      <td>205588.15</td>\n",
              "    </tr>\n",
              "    <tr>\n",
              "      <th>3</th>\n",
              "      <td>4</td>\n",
              "      <td>45000.0</td>\n",
              "      <td>276470.20</td>\n",
              "      <td>136312.85</td>\n",
              "    </tr>\n",
              "    <tr>\n",
              "      <th>4</th>\n",
              "      <td>5</td>\n",
              "      <td>200000.0</td>\n",
              "      <td>157816.11</td>\n",
              "      <td>116684.81</td>\n",
              "    </tr>\n",
              "    <tr>\n",
              "      <th>...</th>\n",
              "      <td>...</td>\n",
              "      <td>...</td>\n",
              "      <td>...</td>\n",
              "      <td>...</td>\n",
              "    </tr>\n",
              "    <tr>\n",
              "      <th>1177</th>\n",
              "      <td>8</td>\n",
              "      <td>224454.0</td>\n",
              "      <td>214633.89</td>\n",
              "      <td>138135.96</td>\n",
              "    </tr>\n",
              "    <tr>\n",
              "      <th>1178</th>\n",
              "      <td>9</td>\n",
              "      <td>30635.0</td>\n",
              "      <td>16197.70</td>\n",
              "      <td>110126.64</td>\n",
              "    </tr>\n",
              "    <tr>\n",
              "      <th>1179</th>\n",
              "      <td>10</td>\n",
              "      <td>NaN</td>\n",
              "      <td>13632.70</td>\n",
              "      <td>103382.93</td>\n",
              "    </tr>\n",
              "    <tr>\n",
              "      <th>1180</th>\n",
              "      <td>11</td>\n",
              "      <td>143340.0</td>\n",
              "      <td>7856.50</td>\n",
              "      <td>115585.51</td>\n",
              "    </tr>\n",
              "    <tr>\n",
              "      <th>1181</th>\n",
              "      <td>12</td>\n",
              "      <td>4473.0</td>\n",
              "      <td>23678.00</td>\n",
              "      <td>-17023.45</td>\n",
              "    </tr>\n",
              "  </tbody>\n",
              "</table>\n",
              "<p>1182 rows × 4 columns</p>\n",
              "</div>\n",
              "      <button class=\"colab-df-convert\" onclick=\"convertToInteractive('df-46f2c097-0e11-4c0c-b3e5-9d0c86408525')\"\n",
              "              title=\"Convert this dataframe to an interactive table.\"\n",
              "              style=\"display:none;\">\n",
              "        \n",
              "  <svg xmlns=\"http://www.w3.org/2000/svg\" height=\"24px\"viewBox=\"0 0 24 24\"\n",
              "       width=\"24px\">\n",
              "    <path d=\"M0 0h24v24H0V0z\" fill=\"none\"/>\n",
              "    <path d=\"M18.56 5.44l.94 2.06.94-2.06 2.06-.94-2.06-.94-.94-2.06-.94 2.06-2.06.94zm-11 1L8.5 8.5l.94-2.06 2.06-.94-2.06-.94L8.5 2.5l-.94 2.06-2.06.94zm10 10l.94 2.06.94-2.06 2.06-.94-2.06-.94-.94-2.06-.94 2.06-2.06.94z\"/><path d=\"M17.41 7.96l-1.37-1.37c-.4-.4-.92-.59-1.43-.59-.52 0-1.04.2-1.43.59L10.3 9.45l-7.72 7.72c-.78.78-.78 2.05 0 2.83L4 21.41c.39.39.9.59 1.41.59.51 0 1.02-.2 1.41-.59l7.78-7.78 2.81-2.81c.8-.78.8-2.07 0-2.86zM5.41 20L4 18.59l7.72-7.72 1.47 1.35L5.41 20z\"/>\n",
              "  </svg>\n",
              "      </button>\n",
              "      \n",
              "  <style>\n",
              "    .colab-df-container {\n",
              "      display:flex;\n",
              "      flex-wrap:wrap;\n",
              "      gap: 12px;\n",
              "    }\n",
              "\n",
              "    .colab-df-convert {\n",
              "      background-color: #E8F0FE;\n",
              "      border: none;\n",
              "      border-radius: 50%;\n",
              "      cursor: pointer;\n",
              "      display: none;\n",
              "      fill: #1967D2;\n",
              "      height: 32px;\n",
              "      padding: 0 0 0 0;\n",
              "      width: 32px;\n",
              "    }\n",
              "\n",
              "    .colab-df-convert:hover {\n",
              "      background-color: #E2EBFA;\n",
              "      box-shadow: 0px 1px 2px rgba(60, 64, 67, 0.3), 0px 1px 3px 1px rgba(60, 64, 67, 0.15);\n",
              "      fill: #174EA6;\n",
              "    }\n",
              "\n",
              "    [theme=dark] .colab-df-convert {\n",
              "      background-color: #3B4455;\n",
              "      fill: #D2E3FC;\n",
              "    }\n",
              "\n",
              "    [theme=dark] .colab-df-convert:hover {\n",
              "      background-color: #434B5C;\n",
              "      box-shadow: 0px 1px 3px 1px rgba(0, 0, 0, 0.15);\n",
              "      filter: drop-shadow(0px 1px 2px rgba(0, 0, 0, 0.3));\n",
              "      fill: #FFFFFF;\n",
              "    }\n",
              "  </style>\n",
              "\n",
              "      <script>\n",
              "        const buttonEl =\n",
              "          document.querySelector('#df-46f2c097-0e11-4c0c-b3e5-9d0c86408525 button.colab-df-convert');\n",
              "        buttonEl.style.display =\n",
              "          google.colab.kernel.accessAllowed ? 'block' : 'none';\n",
              "\n",
              "        async function convertToInteractive(key) {\n",
              "          const element = document.querySelector('#df-46f2c097-0e11-4c0c-b3e5-9d0c86408525');\n",
              "          const dataTable =\n",
              "            await google.colab.kernel.invokeFunction('convertToInteractive',\n",
              "                                                     [key], {});\n",
              "          if (!dataTable) return;\n",
              "\n",
              "          const docLinkHtml = 'Like what you see? Visit the ' +\n",
              "            '<a target=\"_blank\" href=https://colab.research.google.com/notebooks/data_table.ipynb>data table notebook</a>'\n",
              "            + ' to learn more about interactive tables.';\n",
              "          element.innerHTML = '';\n",
              "          dataTable['output_type'] = 'display_data';\n",
              "          await google.colab.output.renderOutput(dataTable, element);\n",
              "          const docLink = document.createElement('div');\n",
              "          docLink.innerHTML = docLinkHtml;\n",
              "          element.appendChild(docLink);\n",
              "        }\n",
              "      </script>\n",
              "    </div>\n",
              "  </div>\n",
              "  "
            ]
          },
          "metadata": {},
          "execution_count": 84
        }
      ]
    },
    {
      "cell_type": "code",
      "source": [
        "df.info()"
      ],
      "metadata": {
        "colab": {
          "base_uri": "https://localhost:8080/"
        },
        "id": "aMer5OkB5XGA",
        "outputId": "6d935461-6174-4e7c-925b-35e928b19018"
      },
      "execution_count": 85,
      "outputs": [
        {
          "output_type": "stream",
          "name": "stdout",
          "text": [
            "<class 'pandas.core.frame.DataFrame'>\n",
            "RangeIndex: 1182 entries, 0 to 1181\n",
            "Data columns (total 4 columns):\n",
            " #   Column                   Non-Null Count  Dtype  \n",
            "---  ------                   --------------  -----  \n",
            " 0   Month                    1182 non-null   int64  \n",
            " 1   CR                       1119 non-null   float64\n",
            " 2   DR                       1182 non-null   float64\n",
            " 3   Average Monthly Balance  1182 non-null   float64\n",
            "dtypes: float64(3), int64(1)\n",
            "memory usage: 37.1 KB\n"
          ]
        }
      ]
    },
    {
      "cell_type": "code",
      "source": [
        "df.isnull().sum()"
      ],
      "metadata": {
        "colab": {
          "base_uri": "https://localhost:8080/"
        },
        "id": "Ky6nuOQv50Tf",
        "outputId": "1a303f50-b533-4355-c309-92efda466cc0"
      },
      "execution_count": 86,
      "outputs": [
        {
          "output_type": "execute_result",
          "data": {
            "text/plain": [
              "Month                       0\n",
              "CR                         63\n",
              "DR                          0\n",
              "Average Monthly Balance     0\n",
              "dtype: int64"
            ]
          },
          "metadata": {},
          "execution_count": 86
        }
      ]
    },
    {
      "cell_type": "markdown",
      "source": [
        "**Data Cleaning**\n",
        "\n",
        "---\n",
        "\n",
        "\n",
        "\n",
        "---\n",
        "\n"
      ],
      "metadata": {
        "id": "v0ZfLs_g59Sn"
      }
    },
    {
      "cell_type": "markdown",
      "source": [
        "Only CR column need to clean to operate null values. "
      ],
      "metadata": {
        "id": "ht_8ucrp6DTJ"
      }
    },
    {
      "cell_type": "markdown",
      "source": [
        "Here CR column show 63 null values which means probably:-\n",
        "1. Missing in data collection.\n",
        "2. Data entry mistake.\n",
        "3. Maybe no amount credited in the account."
      ],
      "metadata": {
        "id": "Yf7QY3FA6OMY"
      }
    },
    {
      "cell_type": "markdown",
      "source": [
        "Here I go with third observation (because data known to me). So, we may replace null values with zero."
      ],
      "metadata": {
        "id": "Fh1Hty0667l1"
      }
    },
    {
      "cell_type": "code",
      "source": [
        "df[\"CR\"].isnull().sum()"
      ],
      "metadata": {
        "colab": {
          "base_uri": "https://localhost:8080/"
        },
        "id": "thTIVQOI5487",
        "outputId": "92d2b2a2-dcfb-4d9e-f07f-c58cee09639b"
      },
      "execution_count": 87,
      "outputs": [
        {
          "output_type": "execute_result",
          "data": {
            "text/plain": [
              "63"
            ]
          },
          "metadata": {},
          "execution_count": 87
        }
      ]
    },
    {
      "cell_type": "code",
      "source": [
        "df[\"CR\"].fillna(0, inplace = True)"
      ],
      "metadata": {
        "id": "zYq71lq07RhN"
      },
      "execution_count": 88,
      "outputs": []
    },
    {
      "cell_type": "code",
      "source": [
        "df"
      ],
      "metadata": {
        "colab": {
          "base_uri": "https://localhost:8080/",
          "height": 424
        },
        "id": "SiV7Xx7M7aMU",
        "outputId": "7ea1c3f6-2bde-4d15-fdc2-99c127bf7b1d"
      },
      "execution_count": 89,
      "outputs": [
        {
          "output_type": "execute_result",
          "data": {
            "text/plain": [
              "      Month        CR         DR  Average Monthly Balance\n",
              "0         1    8340.0   62602.81                289124.91\n",
              "1         2       0.0   80394.00                222409.55\n",
              "2         3  603460.0  525981.50                205588.15\n",
              "3         4   45000.0  276470.20                136312.85\n",
              "4         5  200000.0  157816.11                116684.81\n",
              "...     ...       ...        ...                      ...\n",
              "1177      8  224454.0  214633.89                138135.96\n",
              "1178      9   30635.0   16197.70                110126.64\n",
              "1179     10       0.0   13632.70                103382.93\n",
              "1180     11  143340.0    7856.50                115585.51\n",
              "1181     12    4473.0   23678.00                -17023.45\n",
              "\n",
              "[1182 rows x 4 columns]"
            ],
            "text/html": [
              "\n",
              "  <div id=\"df-f8c45240-0a5a-4b9d-b834-ad131e13d859\">\n",
              "    <div class=\"colab-df-container\">\n",
              "      <div>\n",
              "<style scoped>\n",
              "    .dataframe tbody tr th:only-of-type {\n",
              "        vertical-align: middle;\n",
              "    }\n",
              "\n",
              "    .dataframe tbody tr th {\n",
              "        vertical-align: top;\n",
              "    }\n",
              "\n",
              "    .dataframe thead th {\n",
              "        text-align: right;\n",
              "    }\n",
              "</style>\n",
              "<table border=\"1\" class=\"dataframe\">\n",
              "  <thead>\n",
              "    <tr style=\"text-align: right;\">\n",
              "      <th></th>\n",
              "      <th>Month</th>\n",
              "      <th>CR</th>\n",
              "      <th>DR</th>\n",
              "      <th>Average Monthly Balance</th>\n",
              "    </tr>\n",
              "  </thead>\n",
              "  <tbody>\n",
              "    <tr>\n",
              "      <th>0</th>\n",
              "      <td>1</td>\n",
              "      <td>8340.0</td>\n",
              "      <td>62602.81</td>\n",
              "      <td>289124.91</td>\n",
              "    </tr>\n",
              "    <tr>\n",
              "      <th>1</th>\n",
              "      <td>2</td>\n",
              "      <td>0.0</td>\n",
              "      <td>80394.00</td>\n",
              "      <td>222409.55</td>\n",
              "    </tr>\n",
              "    <tr>\n",
              "      <th>2</th>\n",
              "      <td>3</td>\n",
              "      <td>603460.0</td>\n",
              "      <td>525981.50</td>\n",
              "      <td>205588.15</td>\n",
              "    </tr>\n",
              "    <tr>\n",
              "      <th>3</th>\n",
              "      <td>4</td>\n",
              "      <td>45000.0</td>\n",
              "      <td>276470.20</td>\n",
              "      <td>136312.85</td>\n",
              "    </tr>\n",
              "    <tr>\n",
              "      <th>4</th>\n",
              "      <td>5</td>\n",
              "      <td>200000.0</td>\n",
              "      <td>157816.11</td>\n",
              "      <td>116684.81</td>\n",
              "    </tr>\n",
              "    <tr>\n",
              "      <th>...</th>\n",
              "      <td>...</td>\n",
              "      <td>...</td>\n",
              "      <td>...</td>\n",
              "      <td>...</td>\n",
              "    </tr>\n",
              "    <tr>\n",
              "      <th>1177</th>\n",
              "      <td>8</td>\n",
              "      <td>224454.0</td>\n",
              "      <td>214633.89</td>\n",
              "      <td>138135.96</td>\n",
              "    </tr>\n",
              "    <tr>\n",
              "      <th>1178</th>\n",
              "      <td>9</td>\n",
              "      <td>30635.0</td>\n",
              "      <td>16197.70</td>\n",
              "      <td>110126.64</td>\n",
              "    </tr>\n",
              "    <tr>\n",
              "      <th>1179</th>\n",
              "      <td>10</td>\n",
              "      <td>0.0</td>\n",
              "      <td>13632.70</td>\n",
              "      <td>103382.93</td>\n",
              "    </tr>\n",
              "    <tr>\n",
              "      <th>1180</th>\n",
              "      <td>11</td>\n",
              "      <td>143340.0</td>\n",
              "      <td>7856.50</td>\n",
              "      <td>115585.51</td>\n",
              "    </tr>\n",
              "    <tr>\n",
              "      <th>1181</th>\n",
              "      <td>12</td>\n",
              "      <td>4473.0</td>\n",
              "      <td>23678.00</td>\n",
              "      <td>-17023.45</td>\n",
              "    </tr>\n",
              "  </tbody>\n",
              "</table>\n",
              "<p>1182 rows × 4 columns</p>\n",
              "</div>\n",
              "      <button class=\"colab-df-convert\" onclick=\"convertToInteractive('df-f8c45240-0a5a-4b9d-b834-ad131e13d859')\"\n",
              "              title=\"Convert this dataframe to an interactive table.\"\n",
              "              style=\"display:none;\">\n",
              "        \n",
              "  <svg xmlns=\"http://www.w3.org/2000/svg\" height=\"24px\"viewBox=\"0 0 24 24\"\n",
              "       width=\"24px\">\n",
              "    <path d=\"M0 0h24v24H0V0z\" fill=\"none\"/>\n",
              "    <path d=\"M18.56 5.44l.94 2.06.94-2.06 2.06-.94-2.06-.94-.94-2.06-.94 2.06-2.06.94zm-11 1L8.5 8.5l.94-2.06 2.06-.94-2.06-.94L8.5 2.5l-.94 2.06-2.06.94zm10 10l.94 2.06.94-2.06 2.06-.94-2.06-.94-.94-2.06-.94 2.06-2.06.94z\"/><path d=\"M17.41 7.96l-1.37-1.37c-.4-.4-.92-.59-1.43-.59-.52 0-1.04.2-1.43.59L10.3 9.45l-7.72 7.72c-.78.78-.78 2.05 0 2.83L4 21.41c.39.39.9.59 1.41.59.51 0 1.02-.2 1.41-.59l7.78-7.78 2.81-2.81c.8-.78.8-2.07 0-2.86zM5.41 20L4 18.59l7.72-7.72 1.47 1.35L5.41 20z\"/>\n",
              "  </svg>\n",
              "      </button>\n",
              "      \n",
              "  <style>\n",
              "    .colab-df-container {\n",
              "      display:flex;\n",
              "      flex-wrap:wrap;\n",
              "      gap: 12px;\n",
              "    }\n",
              "\n",
              "    .colab-df-convert {\n",
              "      background-color: #E8F0FE;\n",
              "      border: none;\n",
              "      border-radius: 50%;\n",
              "      cursor: pointer;\n",
              "      display: none;\n",
              "      fill: #1967D2;\n",
              "      height: 32px;\n",
              "      padding: 0 0 0 0;\n",
              "      width: 32px;\n",
              "    }\n",
              "\n",
              "    .colab-df-convert:hover {\n",
              "      background-color: #E2EBFA;\n",
              "      box-shadow: 0px 1px 2px rgba(60, 64, 67, 0.3), 0px 1px 3px 1px rgba(60, 64, 67, 0.15);\n",
              "      fill: #174EA6;\n",
              "    }\n",
              "\n",
              "    [theme=dark] .colab-df-convert {\n",
              "      background-color: #3B4455;\n",
              "      fill: #D2E3FC;\n",
              "    }\n",
              "\n",
              "    [theme=dark] .colab-df-convert:hover {\n",
              "      background-color: #434B5C;\n",
              "      box-shadow: 0px 1px 3px 1px rgba(0, 0, 0, 0.15);\n",
              "      filter: drop-shadow(0px 1px 2px rgba(0, 0, 0, 0.3));\n",
              "      fill: #FFFFFF;\n",
              "    }\n",
              "  </style>\n",
              "\n",
              "      <script>\n",
              "        const buttonEl =\n",
              "          document.querySelector('#df-f8c45240-0a5a-4b9d-b834-ad131e13d859 button.colab-df-convert');\n",
              "        buttonEl.style.display =\n",
              "          google.colab.kernel.accessAllowed ? 'block' : 'none';\n",
              "\n",
              "        async function convertToInteractive(key) {\n",
              "          const element = document.querySelector('#df-f8c45240-0a5a-4b9d-b834-ad131e13d859');\n",
              "          const dataTable =\n",
              "            await google.colab.kernel.invokeFunction('convertToInteractive',\n",
              "                                                     [key], {});\n",
              "          if (!dataTable) return;\n",
              "\n",
              "          const docLinkHtml = 'Like what you see? Visit the ' +\n",
              "            '<a target=\"_blank\" href=https://colab.research.google.com/notebooks/data_table.ipynb>data table notebook</a>'\n",
              "            + ' to learn more about interactive tables.';\n",
              "          element.innerHTML = '';\n",
              "          dataTable['output_type'] = 'display_data';\n",
              "          await google.colab.output.renderOutput(dataTable, element);\n",
              "          const docLink = document.createElement('div');\n",
              "          docLink.innerHTML = docLinkHtml;\n",
              "          element.appendChild(docLink);\n",
              "        }\n",
              "      </script>\n",
              "    </div>\n",
              "  </div>\n",
              "  "
            ]
          },
          "metadata": {},
          "execution_count": 89
        }
      ]
    },
    {
      "cell_type": "markdown",
      "source": [
        "Data Visualization"
      ],
      "metadata": {
        "id": "rOxhzcds8Ave"
      }
    },
    {
      "cell_type": "code",
      "source": [
        "plt.figure(figsize=(20,20))\n",
        "plt.subplot(321)\n",
        "plt.boxplot(df[\"CR\"])\n",
        "plt.title(\"CR\")\n",
        "\n",
        "plt.subplot(322)\n",
        "plt.boxplot(df[\"DR\"])\n",
        "plt.title(\"DR\")\n",
        "\n",
        "plt.subplot(323)\n",
        "plt.boxplot(df[\"Average Monthly Balance\"])\n",
        "plt.title(\"Average\")"
      ],
      "metadata": {
        "colab": {
          "base_uri": "https://localhost:8080/",
          "height": 784
        },
        "id": "Ohu6GwZx7eR_",
        "outputId": "ddc97adc-6240-411c-910b-367a822a6df1"
      },
      "execution_count": 90,
      "outputs": [
        {
          "output_type": "execute_result",
          "data": {
            "text/plain": [
              "Text(0.5, 1.0, 'Average')"
            ]
          },
          "metadata": {},
          "execution_count": 90
        },
        {
          "output_type": "display_data",
          "data": {
            "text/plain": [
              "<Figure size 1440x1440 with 3 Axes>"
            ],
            "image/png": "[encoded data removed]"
          },
          "metadata": {
            "needs_background": "light"
          }
        }
      ]
    },
    {
      "cell_type": "markdown",
      "source": [
        "52 number of outliers.\n",
        "1. Remove them using calculation through IQR.\n",
        "2. Treat them using log transformation.\n",
        "3. Keep them in data.\n",
        "\n",
        "Here we keep these outliers as it is because sometime person credit and debit extra amounts."
      ],
      "metadata": {
        "id": "KlBtwep5-3I4"
      }
    },
    {
      "cell_type": "markdown",
      "source": [
        "**Feature vs target**"
      ],
      "metadata": {
        "id": "sO5jKEtbLu56"
      }
    },
    {
      "cell_type": "code",
      "source": [
        "plt.figure(figsize=(15,10))\n",
        "sns.heatmap(df.corr(), annot=True)\n",
        "plt.show()"
      ],
      "metadata": {
        "colab": {
          "base_uri": "https://localhost:8080/",
          "height": 596
        },
        "id": "_FbdAT4r-2dK",
        "outputId": "81ac42df-928a-43fd-e04a-8cb339cbd24c"
      },
      "execution_count": 91,
      "outputs": [
        {
          "output_type": "display_data",
          "data": {
            "text/plain": [
              "<Figure size 1080x720 with 2 Axes>"
            ],
            "image/png": "[encoded data removed]"
          },
          "metadata": {
            "needs_background": "light"
          }
        }
      ]
    },
    {
      "cell_type": "markdown",
      "source": [
        "**Observations:-**\n",
        "\n",
        "1. CR and DR column well linear correlated with each other.\n",
        "2. CR and DR both column show some amount of correlation with Average Monthly Balance column.\n",
        "3. So, this is a linear regression type problem."
      ],
      "metadata": {
        "id": "jm4Fa9ffMEem"
      }
    },
    {
      "cell_type": "code",
      "source": [
        "plt.figure(figsize=(20,20))\n",
        "plt.subplot(321)\n",
        "sns.regplot(x = df[\"Month\"], y = df[\"Average Monthly Balance\"], scatter_kws={\"color\" : \"green\"}, line_kws={\"color\":\"red\"})\n",
        "plt.title(\"Month vs Average Balance\")\n",
        "\n",
        "plt.subplot(322)\n",
        "sns.regplot(x = df[\"CR\"], y = df[\"Average Monthly Balance\"], scatter_kws={\"color\" : \"blue\"}, line_kws={\"color\":\"red\"})\n",
        "plt.title(\"Credit vs Average Balance\")\n",
        "\n",
        "plt.subplot(323)\n",
        "sns.regplot(x = df[\"DR\"], y = df[\"Average Monthly Balance\"], scatter_kws={\"color\" : \"green\"}, line_kws={\"color\":\"red\"})\n",
        "plt.title(\"Debit vs Average Balance\")"
      ],
      "metadata": {
        "colab": {
          "base_uri": "https://localhost:8080/",
          "height": 798
        },
        "id": "TCTIa8S29XK4",
        "outputId": "50c646fa-ea9d-4d2a-b1f7-1712e93ced67"
      },
      "execution_count": 92,
      "outputs": [
        {
          "output_type": "execute_result",
          "data": {
            "text/plain": [
              "Text(0.5, 1.0, 'Debit vs Average Balance')"
            ]
          },
          "metadata": {},
          "execution_count": 92
        },
        {
          "output_type": "display_data",
          "data": {
            "text/plain": [
              "<Figure size 1440x1440 with 3 Axes>"
            ],
            "image/png": "[encoded data removed]"
          },
          "metadata": {
            "needs_background": "light"
          }
        }
      ]
    },
    {
      "cell_type": "markdown",
      "source": [
        "**Observations:-**\n",
        "\n",
        "1. Month and Average Balance show no linear correlation.\n",
        "2. Plot and Correlation chart both gives same result.\n",
        "3. Credit(CR) and Debit(DR) both shows positive correlation with Average Monthly balance."
      ],
      "metadata": {
        "id": "7JtRDsMt-oU5"
      }
    },
    {
      "cell_type": "code",
      "source": [
        ""
      ],
      "metadata": {
        "id": "dyuQxGSQ-nhS"
      },
      "execution_count": 92,
      "outputs": []
    },
    {
      "cell_type": "code",
      "source": [
        "sns.barplot(x=df[\"Month\"],y=df[\"Average Monthly Balance\"],order=df.groupby('Month')['Average Monthly Balance'].mean().reset_index().sort_values('Average Monthly Balance')['Month'])\n",
        "plt.title('AREA vs SALES_PRICE')"
      ],
      "metadata": {
        "colab": {
          "base_uri": "https://localhost:8080/",
          "height": 312
        },
        "id": "KGFM3H-9BW8d",
        "outputId": "5d87ee37-232e-40ae-a7d5-6846cd0e25a5"
      },
      "execution_count": 93,
      "outputs": [
        {
          "output_type": "execute_result",
          "data": {
            "text/plain": [
              "Text(0.5, 1.0, 'AREA vs SALES_PRICE')"
            ]
          },
          "metadata": {},
          "execution_count": 93
        },
        {
          "output_type": "display_data",
          "data": {
            "text/plain": [
              "<Figure size 432x288 with 1 Axes>"
            ],
            "image/png": "[encoded data removed]"
          },
          "metadata": {
            "needs_background": "light"
          }
        }
      ]
    },
    {
      "cell_type": "markdown",
      "source": [
        "**Observations:-**\n",
        "\n",
        "1. Above Barplot shows an increasing trend but its not linear increament.\n",
        "2. We can go with One Hot encoding with this column."
      ],
      "metadata": {
        "id": "ixRd1etGCSdj"
      }
    },
    {
      "cell_type": "code",
      "source": [
        "data = pd.get_dummies(df, columns=[\"Month\"])\n",
        "data"
      ],
      "metadata": {
        "colab": {
          "base_uri": "https://localhost:8080/",
          "height": 468
        },
        "id": "BmsC6dFwCQVs",
        "outputId": "4e8113d7-5afb-4915-fe11-374e4b760b5f"
      },
      "execution_count": 94,
      "outputs": [
        {
          "output_type": "execute_result",
          "data": {
            "text/plain": [
              "            CR         DR  Average Monthly Balance  Month_1  Month_2  Month_3  \\\n",
              "0       8340.0   62602.81                289124.91        1        0        0   \n",
              "1          0.0   80394.00                222409.55        0        1        0   \n",
              "2     603460.0  525981.50                205588.15        0        0        1   \n",
              "3      45000.0  276470.20                136312.85        0        0        0   \n",
              "4     200000.0  157816.11                116684.81        0        0        0   \n",
              "...        ...        ...                      ...      ...      ...      ...   \n",
              "1177  224454.0  214633.89                138135.96        0        0        0   \n",
              "1178   30635.0   16197.70                110126.64        0        0        0   \n",
              "1179       0.0   13632.70                103382.93        0        0        0   \n",
              "1180  143340.0    7856.50                115585.51        0        0        0   \n",
              "1181    4473.0   23678.00                -17023.45        0        0        0   \n",
              "\n",
              "      Month_4  Month_5  Month_6  Month_7  Month_8  Month_9  Month_10  \\\n",
              "0           0        0        0        0        0        0         0   \n",
              "1           0        0        0        0        0        0         0   \n",
              "2           0        0        0        0        0        0         0   \n",
              "3           1        0        0        0        0        0         0   \n",
              "4           0        1        0        0        0        0         0   \n",
              "...       ...      ...      ...      ...      ...      ...       ...   \n",
              "1177        0        0        0        0        1        0         0   \n",
              "1178        0        0        0        0        0        1         0   \n",
              "1179        0        0        0        0        0        0         1   \n",
              "1180        0        0        0        0        0        0         0   \n",
              "1181        0        0        0        0        0        0         0   \n",
              "\n",
              "      Month_11  Month_12  \n",
              "0            0         0  \n",
              "1            0         0  \n",
              "2            0         0  \n",
              "3            0         0  \n",
              "4            0         0  \n",
              "...        ...       ...  \n",
              "1177         0         0  \n",
              "1178         0         0  \n",
              "1179         0         0  \n",
              "1180         1         0  \n",
              "1181         0         1  \n",
              "\n",
              "[1182 rows x 15 columns]"
            ],
            "text/html": [
              "\n",
              "  <div id=\"df-4029759d-fab0-49f8-84f9-56653e6225a5\">\n",
              "    <div class=\"colab-df-container\">\n",
              "      <div>\n",
              "<style scoped>\n",
              "    .dataframe tbody tr th:only-of-type {\n",
              "        vertical-align: middle;\n",
              "    }\n",
              "\n",
              "    .dataframe tbody tr th {\n",
              "        vertical-align: top;\n",
              "    }\n",
              "\n",
              "    .dataframe thead th {\n",
              "        text-align: right;\n",
              "    }\n",
              "</style>\n",
              "<table border=\"1\" class=\"dataframe\">\n",
              "  <thead>\n",
              "    <tr style=\"text-align: right;\">\n",
              "      <th></th>\n",
              "      <th>CR</th>\n",
              "      <th>DR</th>\n",
              "      <th>Average Monthly Balance</th>\n",
              "      <th>Month_1</th>\n",
              "      <th>Month_2</th>\n",
              "      <th>Month_3</th>\n",
              "      <th>Month_4</th>\n",
              "      <th>Month_5</th>\n",
              "      <th>Month_6</th>\n",
              "      <th>Month_7</th>\n",
              "      <th>Month_8</th>\n",
              "      <th>Month_9</th>\n",
              "      <th>Month_10</th>\n",
              "      <th>Month_11</th>\n",
              "      <th>Month_12</th>\n",
              "    </tr>\n",
              "  </thead>\n",
              "  <tbody>\n",
              "    <tr>\n",
              "      <th>0</th>\n",
              "      <td>8340.0</td>\n",
              "      <td>62602.81</td>\n",
              "      <td>289124.91</td>\n",
              "      <td>1</td>\n",
              "      <td>0</td>\n",
              "      <td>0</td>\n",
              "      <td>0</td>\n",
              "      <td>0</td>\n",
              "      <td>0</td>\n",
              "      <td>0</td>\n",
              "      <td>0</td>\n",
              "      <td>0</td>\n",
              "      <td>0</td>\n",
              "      <td>0</td>\n",
              "      <td>0</td>\n",
              "    </tr>\n",
              "    <tr>\n",
              "      <th>1</th>\n",
              "      <td>0.0</td>\n",
              "      <td>80394.00</td>\n",
              "      <td>222409.55</td>\n",
              "      <td>0</td>\n",
              "      <td>1</td>\n",
              "      <td>0</td>\n",
              "      <td>0</td>\n",
              "      <td>0</td>\n",
              "      <td>0</td>\n",
              "      <td>0</td>\n",
              "      <td>0</td>\n",
              "      <td>0</td>\n",
              "      <td>0</td>\n",
              "      <td>0</td>\n",
              "      <td>0</td>\n",
              "    </tr>\n",
              "    <tr>\n",
              "      <th>2</th>\n",
              "      <td>603460.0</td>\n",
              "      <td>525981.50</td>\n",
              "      <td>205588.15</td>\n",
              "      <td>0</td>\n",
              "      <td>0</td>\n",
              "      <td>1</td>\n",
              "      <td>0</td>\n",
              "      <td>0</td>\n",
              "      <td>0</td>\n",
              "      <td>0</td>\n",
              "      <td>0</td>\n",
              "      <td>0</td>\n",
              "      <td>0</td>\n",
              "      <td>0</td>\n",
              "      <td>0</td>\n",
              "    </tr>\n",
              "    <tr>\n",
              "      <th>3</th>\n",
              "      <td>45000.0</td>\n",
              "      <td>276470.20</td>\n",
              "      <td>136312.85</td>\n",
              "      <td>0</td>\n",
              "      <td>0</td>\n",
              "      <td>0</td>\n",
              "      <td>1</td>\n",
              "      <td>0</td>\n",
              "      <td>0</td>\n",
              "      <td>0</td>\n",
              "      <td>0</td>\n",
              "      <td>0</td>\n",
              "      <td>0</td>\n",
              "      <td>0</td>\n",
              "      <td>0</td>\n",
              "    </tr>\n",
              "    <tr>\n",
              "      <th>4</th>\n",
              "      <td>200000.0</td>\n",
              "      <td>157816.11</td>\n",
              "      <td>116684.81</td>\n",
              "      <td>0</td>\n",
              "      <td>0</td>\n",
              "      <td>0</td>\n",
              "      <td>0</td>\n",
              "      <td>1</td>\n",
              "      <td>0</td>\n",
              "      <td>0</td>\n",
              "      <td>0</td>\n",
              "      <td>0</td>\n",
              "      <td>0</td>\n",
              "      <td>0</td>\n",
              "      <td>0</td>\n",
              "    </tr>\n",
              "    <tr>\n",
              "      <th>...</th>\n",
              "      <td>...</td>\n",
              "      <td>...</td>\n",
              "      <td>...</td>\n",
              "      <td>...</td>\n",
              "      <td>...</td>\n",
              "      <td>...</td>\n",
              "      <td>...</td>\n",
              "      <td>...</td>\n",
              "      <td>...</td>\n",
              "      <td>...</td>\n",
              "      <td>...</td>\n",
              "      <td>...</td>\n",
              "      <td>...</td>\n",
              "      <td>...</td>\n",
              "      <td>...</td>\n",
              "    </tr>\n",
              "    <tr>\n",
              "      <th>1177</th>\n",
              "      <td>224454.0</td>\n",
              "      <td>214633.89</td>\n",
              "      <td>138135.96</td>\n",
              "      <td>0</td>\n",
              "      <td>0</td>\n",
              "      <td>0</td>\n",
              "      <td>0</td>\n",
              "      <td>0</td>\n",
              "      <td>0</td>\n",
              "      <td>0</td>\n",
              "      <td>1</td>\n",
              "      <td>0</td>\n",
              "      <td>0</td>\n",
              "      <td>0</td>\n",
              "      <td>0</td>\n",
              "    </tr>\n",
              "    <tr>\n",
              "      <th>1178</th>\n",
              "      <td>30635.0</td>\n",
              "      <td>16197.70</td>\n",
              "      <td>110126.64</td>\n",
              "      <td>0</td>\n",
              "      <td>0</td>\n",
              "      <td>0</td>\n",
              "      <td>0</td>\n",
              "      <td>0</td>\n",
              "      <td>0</td>\n",
              "      <td>0</td>\n",
              "      <td>0</td>\n",
              "      <td>1</td>\n",
              "      <td>0</td>\n",
              "      <td>0</td>\n",
              "      <td>0</td>\n",
              "    </tr>\n",
              "    <tr>\n",
              "      <th>1179</th>\n",
              "      <td>0.0</td>\n",
              "      <td>13632.70</td>\n",
              "      <td>103382.93</td>\n",
              "      <td>0</td>\n",
              "      <td>0</td>\n",
              "      <td>0</td>\n",
              "      <td>0</td>\n",
              "      <td>0</td>\n",
              "      <td>0</td>\n",
              "      <td>0</td>\n",
              "      <td>0</td>\n",
              "      <td>0</td>\n",
              "      <td>1</td>\n",
              "      <td>0</td>\n",
              "      <td>0</td>\n",
              "    </tr>\n",
              "    <tr>\n",
              "      <th>1180</th>\n",
              "      <td>143340.0</td>\n",
              "      <td>7856.50</td>\n",
              "      <td>115585.51</td>\n",
              "      <td>0</td>\n",
              "      <td>0</td>\n",
              "      <td>0</td>\n",
              "      <td>0</td>\n",
              "      <td>0</td>\n",
              "      <td>0</td>\n",
              "      <td>0</td>\n",
              "      <td>0</td>\n",
              "      <td>0</td>\n",
              "      <td>0</td>\n",
              "      <td>1</td>\n",
              "      <td>0</td>\n",
              "    </tr>\n",
              "    <tr>\n",
              "      <th>1181</th>\n",
              "      <td>4473.0</td>\n",
              "      <td>23678.00</td>\n",
              "      <td>-17023.45</td>\n",
              "      <td>0</td>\n",
              "      <td>0</td>\n",
              "      <td>0</td>\n",
              "      <td>0</td>\n",
              "      <td>0</td>\n",
              "      <td>0</td>\n",
              "      <td>0</td>\n",
              "      <td>0</td>\n",
              "      <td>0</td>\n",
              "      <td>0</td>\n",
              "      <td>0</td>\n",
              "      <td>1</td>\n",
              "    </tr>\n",
              "  </tbody>\n",
              "</table>\n",
              "<p>1182 rows × 15 columns</p>\n",
              "</div>\n",
              "      <button class=\"colab-df-convert\" onclick=\"convertToInteractive('df-4029759d-fab0-49f8-84f9-56653e6225a5')\"\n",
              "              title=\"Convert this dataframe to an interactive table.\"\n",
              "              style=\"display:none;\">\n",
              "        \n",
              "  <svg xmlns=\"http://www.w3.org/2000/svg\" height=\"24px\"viewBox=\"0 0 24 24\"\n",
              "       width=\"24px\">\n",
              "    <path d=\"M0 0h24v24H0V0z\" fill=\"none\"/>\n",
              "    <path d=\"M18.56 5.44l.94 2.06.94-2.06 2.06-.94-2.06-.94-.94-2.06-.94 2.06-2.06.94zm-11 1L8.5 8.5l.94-2.06 2.06-.94-2.06-.94L8.5 2.5l-.94 2.06-2.06.94zm10 10l.94 2.06.94-2.06 2.06-.94-2.06-.94-.94-2.06-.94 2.06-2.06.94z\"/><path d=\"M17.41 7.96l-1.37-1.37c-.4-.4-.92-.59-1.43-.59-.52 0-1.04.2-1.43.59L10.3 9.45l-7.72 7.72c-.78.78-.78 2.05 0 2.83L4 21.41c.39.39.9.59 1.41.59.51 0 1.02-.2 1.41-.59l7.78-7.78 2.81-2.81c.8-.78.8-2.07 0-2.86zM5.41 20L4 18.59l7.72-7.72 1.47 1.35L5.41 20z\"/>\n",
              "  </svg>\n",
              "      </button>\n",
              "      \n",
              "  <style>\n",
              "    .colab-df-container {\n",
              "      display:flex;\n",
              "      flex-wrap:wrap;\n",
              "      gap: 12px;\n",
              "    }\n",
              "\n",
              "    .colab-df-convert {\n",
              "      background-color: #E8F0FE;\n",
              "      border: none;\n",
              "      border-radius: 50%;\n",
              "      cursor: pointer;\n",
              "      display: none;\n",
              "      fill: #1967D2;\n",
              "      height: 32px;\n",
              "      padding: 0 0 0 0;\n",
              "      width: 32px;\n",
              "    }\n",
              "\n",
              "    .colab-df-convert:hover {\n",
              "      background-color: #E2EBFA;\n",
              "      box-shadow: 0px 1px 2px rgba(60, 64, 67, 0.3), 0px 1px 3px 1px rgba(60, 64, 67, 0.15);\n",
              "      fill: #174EA6;\n",
              "    }\n",
              "\n",
              "    [theme=dark] .colab-df-convert {\n",
              "      background-color: #3B4455;\n",
              "      fill: #D2E3FC;\n",
              "    }\n",
              "\n",
              "    [theme=dark] .colab-df-convert:hover {\n",
              "      background-color: #434B5C;\n",
              "      box-shadow: 0px 1px 3px 1px rgba(0, 0, 0, 0.15);\n",
              "      filter: drop-shadow(0px 1px 2px rgba(0, 0, 0, 0.3));\n",
              "      fill: #FFFFFF;\n",
              "    }\n",
              "  </style>\n",
              "\n",
              "      <script>\n",
              "        const buttonEl =\n",
              "          document.querySelector('#df-4029759d-fab0-49f8-84f9-56653e6225a5 button.colab-df-convert');\n",
              "        buttonEl.style.display =\n",
              "          google.colab.kernel.accessAllowed ? 'block' : 'none';\n",
              "\n",
              "        async function convertToInteractive(key) {\n",
              "          const element = document.querySelector('#df-4029759d-fab0-49f8-84f9-56653e6225a5');\n",
              "          const dataTable =\n",
              "            await google.colab.kernel.invokeFunction('convertToInteractive',\n",
              "                                                     [key], {});\n",
              "          if (!dataTable) return;\n",
              "\n",
              "          const docLinkHtml = 'Like what you see? Visit the ' +\n",
              "            '<a target=\"_blank\" href=https://colab.research.google.com/notebooks/data_table.ipynb>data table notebook</a>'\n",
              "            + ' to learn more about interactive tables.';\n",
              "          element.innerHTML = '';\n",
              "          dataTable['output_type'] = 'display_data';\n",
              "          await google.colab.output.renderOutput(dataTable, element);\n",
              "          const docLink = document.createElement('div');\n",
              "          docLink.innerHTML = docLinkHtml;\n",
              "          element.appendChild(docLink);\n",
              "        }\n",
              "      </script>\n",
              "    </div>\n",
              "  </div>\n",
              "  "
            ]
          },
          "metadata": {},
          "execution_count": 94
        }
      ]
    },
    {
      "cell_type": "markdown",
      "source": [
        "Now our data is ready for model development.\n",
        "\n",
        "---\n",
        "\n",
        "\n",
        "\n",
        "---"
      ],
      "metadata": {
        "id": "_BJCglr9DYfA"
      }
    },
    {
      "cell_type": "code",
      "source": [
        "data.columns"
      ],
      "metadata": {
        "colab": {
          "base_uri": "https://localhost:8080/"
        },
        "id": "XGvgyWtBDQeM",
        "outputId": "6882944c-7d3b-4734-d1f3-1fa6e9b000b7"
      },
      "execution_count": 95,
      "outputs": [
        {
          "output_type": "execute_result",
          "data": {
            "text/plain": [
              "Index(['CR', 'DR', 'Average Monthly Balance', 'Month_1', 'Month_2', 'Month_3',\n",
              "       'Month_4', 'Month_5', 'Month_6', 'Month_7', 'Month_8', 'Month_9',\n",
              "       'Month_10', 'Month_11', 'Month_12'],\n",
              "      dtype='object')"
            ]
          },
          "metadata": {},
          "execution_count": 95
        }
      ]
    },
    {
      "cell_type": "code",
      "source": [
        "x = data[['CR', 'DR','Month_1', 'Month_2', 'Month_3','Month_4', 'Month_5', 'Month_6', 'Month_7', 'Month_8', 'Month_9','Month_10', 'Month_11', 'Month_12']].values\n",
        "y = data['Average Monthly Balance'].values"
      ],
      "metadata": {
        "id": "ivwkve_qDvuX"
      },
      "execution_count": 96,
      "outputs": []
    },
    {
      "cell_type": "markdown",
      "source": [
        "**Linear Regression Model**"
      ],
      "metadata": {
        "id": "MdvYAIlxEXl0"
      }
    },
    {
      "cell_type": "code",
      "source": [
        "from sklearn.model_selection import train_test_split\n",
        "x_train,x_test,y_train,y_test=train_test_split(x,y,test_size=0.20,random_state=10)"
      ],
      "metadata": {
        "id": "wLIDdR5sEW-m"
      },
      "execution_count": 97,
      "outputs": []
    },
    {
      "cell_type": "code",
      "source": [
        "# Feature Scaling\n",
        "from sklearn.preprocessing import StandardScaler\n",
        "\n",
        "sc = StandardScaler()\n",
        "x_train = sc.fit_transform(x_train)\n",
        "x_test = sc.transform(x_test)"
      ],
      "metadata": {
        "id": "iojK4DM7EgYX"
      },
      "execution_count": 98,
      "outputs": []
    },
    {
      "cell_type": "code",
      "source": [
        "#Build model\n",
        "\n",
        "from sklearn.linear_model import LinearRegression\n",
        "model_lin=LinearRegression()\n",
        "model_lin.fit(x_train,y_train)"
      ],
      "metadata": {
        "colab": {
          "base_uri": "https://localhost:8080/"
        },
        "id": "5ZKtsgEsElo0",
        "outputId": "34fa8129-ac67-4757-eabb-dcc7a8f11e13"
      },
      "execution_count": 99,
      "outputs": [
        {
          "output_type": "execute_result",
          "data": {
            "text/plain": [
              "LinearRegression()"
            ]
          },
          "metadata": {},
          "execution_count": 99
        }
      ]
    },
    {
      "cell_type": "code",
      "source": [
        "# given the features of the test dataset, it will give the final predictions\n",
        "\n",
        "y_pred_lin = model_lin.predict(x_test)\n",
        "y_pred_lin"
      ],
      "metadata": {
        "colab": {
          "base_uri": "https://localhost:8080/"
        },
        "id": "7mUkvui7EpS-",
        "outputId": "7c40e1ac-2923-4fac-a900-fd6605f05e5a"
      },
      "execution_count": 100,
      "outputs": [
        {
          "output_type": "execute_result",
          "data": {
            "text/plain": [
              "array([ 73591.14992654,  35968.69677427,  75923.7729886 ,  77591.52419055,\n",
              "        41086.53477972,  35824.86223938,  72555.78674179,  95538.62599293,\n",
              "        47197.05765766,  75949.27838735,  67601.6483654 ,  71209.3831299 ,\n",
              "        45380.2885843 ,  54946.13990947,  65105.56172039,  55162.56725984,\n",
              "        69111.79004226,  47324.93618082,  96975.51820674,  55708.62573841,\n",
              "        40507.3211255 ,  77512.39717632,  76623.43298949,  47237.8666306 ,\n",
              "        67674.24118088,  62497.48401348,  90068.44756997,  80669.45881527,\n",
              "        77621.03935803,  25034.8092307 ,  67871.74340217,  75849.83739906,\n",
              "        67550.4436572 ,  13744.15636136,  77713.40422593,  56435.92888505,\n",
              "        73309.05133269,  58108.60596264,  42505.18081174,  89865.03540543,\n",
              "        63637.62619642,  62292.09612163,  58758.41804483,  73568.54077017,\n",
              "        47413.48500803,  77980.17754097,  40924.56954463,  12285.79724476,\n",
              "        80473.62449071,  78150.43704123,  45307.69576882,  76499.24796844,\n",
              "        12170.01811418,  90913.45671756,  90840.86390208,  75541.50459177,\n",
              "        78963.75206923,  24727.13090879,  91057.29125245,  77741.6561936 ,\n",
              "        67817.0252695 ,  13616.89037071,  77375.09684018,  74273.93719087,\n",
              "        79407.07963809,  73568.54077017,  77656.2317112 , 109666.57374227,\n",
              "        67603.97345044, 150023.71926427,  71352.1698084 , 109241.93454975,\n",
              "        45307.69576882,  77425.22607469,  54887.46265078,  79998.6347585 ,\n",
              "        76544.29895477,  41528.53186049,  61445.50565518,  71999.68876345,\n",
              "       148791.93645091,  46723.17065899,  79626.40130385,  77816.53889242,\n",
              "        61661.93300554, 147744.05847614,  77837.4667084 ,  73243.14147579,\n",
              "        47246.78201081,  48215.62988636,  56363.33606957,  47758.86178969,\n",
              "        40464.92881074,  60103.71887167,  76260.2990926 ,  73481.67026061,\n",
              "        47927.17783143,  24760.97011979,  67676.56626592,  34542.96537306,\n",
              "        41068.40407952,  67796.81165026,  78077.84422575,  58155.96795329,\n",
              "        64058.56790965,  12098.75197511,  55636.03292293,  41066.30836674,\n",
              "        40849.88101637,  47503.11140299,  54930.14402744,  97752.59990038,\n",
              "        24890.97469581,  67451.94572345,  72339.35939142,  47174.18919533,\n",
              "        71290.36574744,  35700.61854068,  64889.13437002,  76300.70456416,\n",
              "        13074.29736821,  35727.63284016,  79479.67245357,  36297.08184439,\n",
              "        81567.30803415,  63165.8774667 ,  98016.99494991, 110758.28470735,\n",
              "        58902.25257972,  72146.31336953,  79060.02018562,  24688.37730431,\n",
              "        27672.29897414,  14877.48889887,  77640.81141045,  14314.07155839,\n",
              "        76573.54795362,  96732.11057542,  40725.86287222,  55749.53925643,\n",
              "        76500.95513814,  44850.89376366,  68432.04105855,  76696.02580497,\n",
              "        67623.03647268,  72604.47018297,  41329.46636351,  12315.17932547,\n",
              "        58904.67133186,  12098.75197511,  58065.46588656,  62292.09612163,\n",
              "        78633.59106556,  76021.87120283,  91063.4537639 ,  71136.79031442,\n",
              "        77809.44202882,  77092.04214091,  73243.75481662,  73460.18216699,\n",
              "        90081.4627558 ,  98016.99494991,  13952.01901746,  14842.79309486,\n",
              "        98089.58776539,  77600.11154205,  40508.06888682,  97680.0070849 ,\n",
              "        40851.97672915,  35844.45307557,  76300.0679237 ,  13671.56354588,\n",
              "        65070.63750747,  58113.39930442,  75362.26370552,  68215.61370818,\n",
              "        73337.83572572,  35746.93294933,  55822.13207191,  67524.53853893,\n",
              "        72411.9522069 ,  55018.73272495,  73265.24291024,  97191.94555711,\n",
              "        40507.3211255 ,  14197.24286641,  67673.19073461,  74580.02167583,\n",
              "        74201.34437539,  40512.86222861,  36369.67465986,  76228.11174868,\n",
              "        26261.04885696,  12932.31615008,  47291.6119957 ,  96659.51775994,\n",
              "        72606.33492154,  69498.90039464,  71999.68876345,  67451.94572345,\n",
              "        78032.74943621,  34759.39272343,  97445.82602605,  79900.6061453 ,\n",
              "        73519.2098392 ,  76260.2990926 ,  62424.891198  ,  35752.2694239 ,\n",
              "        27599.70615866,  12141.96270987,  77587.34057153,  55018.73272495,\n",
              "        24745.15270143,  77952.2277548 ,  35806.32790681,  77393.08963978,\n",
              "        72634.88024043,  35628.0257252 ,  67603.97345044,  35819.52576481,\n",
              "        98089.58776539,  58688.2439815 ,  14241.47874291,  80220.70300454,\n",
              "        79626.40130385,  12472.10368606,  12315.17932547,  46386.18279398,\n",
              "       109666.57374227,  13572.9209399 ,  60103.71887167,  72389.90757117,\n",
              "       110421.29684234,  68624.92506101,  77319.24309747,  75003.78329424,\n",
              "        24657.66080216])"
            ]
          },
          "metadata": {},
          "execution_count": 100
        }
      ]
    },
    {
      "cell_type": "code",
      "source": [
        "Data = pd.DataFrame({'Actual': y_test, 'Predicted': y_pred_lin})\n",
        "Data.head()"
      ],
      "metadata": {
        "colab": {
          "base_uri": "https://localhost:8080/",
          "height": 206
        },
        "id": "fyDrEYp-EqOg",
        "outputId": "4ea67796-a021-4857-8e55-8b4015ad1b16"
      },
      "execution_count": 101,
      "outputs": [
        {
          "output_type": "execute_result",
          "data": {
            "text/plain": [
              "     Actual     Predicted\n",
              "0  21776.70  73591.149927\n",
              "1   1247.42  35968.696774\n",
              "2   6174.08  75923.772989\n",
              "3  16331.99  77591.524191\n",
              "4  13486.14  41086.534780"
            ],
            "text/html": [
              "\n",
              "  <div id=\"df-1bf2805f-c0c1-44a5-bf10-084134f82c3c\">\n",
              "    <div class=\"colab-df-container\">\n",
              "      <div>\n",
              "<style scoped>\n",
              "    .dataframe tbody tr th:only-of-type {\n",
              "        vertical-align: middle;\n",
              "    }\n",
              "\n",
              "    .dataframe tbody tr th {\n",
              "        vertical-align: top;\n",
              "    }\n",
              "\n",
              "    .dataframe thead th {\n",
              "        text-align: right;\n",
              "    }\n",
              "</style>\n",
              "<table border=\"1\" class=\"dataframe\">\n",
              "  <thead>\n",
              "    <tr style=\"text-align: right;\">\n",
              "      <th></th>\n",
              "      <th>Actual</th>\n",
              "      <th>Predicted</th>\n",
              "    </tr>\n",
              "  </thead>\n",
              "  <tbody>\n",
              "    <tr>\n",
              "      <th>0</th>\n",
              "      <td>21776.70</td>\n",
              "      <td>73591.149927</td>\n",
              "    </tr>\n",
              "    <tr>\n",
              "      <th>1</th>\n",
              "      <td>1247.42</td>\n",
              "      <td>35968.696774</td>\n",
              "    </tr>\n",
              "    <tr>\n",
              "      <th>2</th>\n",
              "      <td>6174.08</td>\n",
              "      <td>75923.772989</td>\n",
              "    </tr>\n",
              "    <tr>\n",
              "      <th>3</th>\n",
              "      <td>16331.99</td>\n",
              "      <td>77591.524191</td>\n",
              "    </tr>\n",
              "    <tr>\n",
              "      <th>4</th>\n",
              "      <td>13486.14</td>\n",
              "      <td>41086.534780</td>\n",
              "    </tr>\n",
              "  </tbody>\n",
              "</table>\n",
              "</div>\n",
              "      <button class=\"colab-df-convert\" onclick=\"convertToInteractive('df-1bf2805f-c0c1-44a5-bf10-084134f82c3c')\"\n",
              "              title=\"Convert this dataframe to an interactive table.\"\n",
              "              style=\"display:none;\">\n",
              "        \n",
              "  <svg xmlns=\"http://www.w3.org/2000/svg\" height=\"24px\"viewBox=\"0 0 24 24\"\n",
              "       width=\"24px\">\n",
              "    <path d=\"M0 0h24v24H0V0z\" fill=\"none\"/>\n",
              "    <path d=\"M18.56 5.44l.94 2.06.94-2.06 2.06-.94-2.06-.94-.94-2.06-.94 2.06-2.06.94zm-11 1L8.5 8.5l.94-2.06 2.06-.94-2.06-.94L8.5 2.5l-.94 2.06-2.06.94zm10 10l.94 2.06.94-2.06 2.06-.94-2.06-.94-.94-2.06-.94 2.06-2.06.94z\"/><path d=\"M17.41 7.96l-1.37-1.37c-.4-.4-.92-.59-1.43-.59-.52 0-1.04.2-1.43.59L10.3 9.45l-7.72 7.72c-.78.78-.78 2.05 0 2.83L4 21.41c.39.39.9.59 1.41.59.51 0 1.02-.2 1.41-.59l7.78-7.78 2.81-2.81c.8-.78.8-2.07 0-2.86zM5.41 20L4 18.59l7.72-7.72 1.47 1.35L5.41 20z\"/>\n",
              "  </svg>\n",
              "      </button>\n",
              "      \n",
              "  <style>\n",
              "    .colab-df-container {\n",
              "      display:flex;\n",
              "      flex-wrap:wrap;\n",
              "      gap: 12px;\n",
              "    }\n",
              "\n",
              "    .colab-df-convert {\n",
              "      background-color: #E8F0FE;\n",
              "      border: none;\n",
              "      border-radius: 50%;\n",
              "      cursor: pointer;\n",
              "      display: none;\n",
              "      fill: #1967D2;\n",
              "      height: 32px;\n",
              "      padding: 0 0 0 0;\n",
              "      width: 32px;\n",
              "    }\n",
              "\n",
              "    .colab-df-convert:hover {\n",
              "      background-color: #E2EBFA;\n",
              "      box-shadow: 0px 1px 2px rgba(60, 64, 67, 0.3), 0px 1px 3px 1px rgba(60, 64, 67, 0.15);\n",
              "      fill: #174EA6;\n",
              "    }\n",
              "\n",
              "    [theme=dark] .colab-df-convert {\n",
              "      background-color: #3B4455;\n",
              "      fill: #D2E3FC;\n",
              "    }\n",
              "\n",
              "    [theme=dark] .colab-df-convert:hover {\n",
              "      background-color: #434B5C;\n",
              "      box-shadow: 0px 1px 3px 1px rgba(0, 0, 0, 0.15);\n",
              "      filter: drop-shadow(0px 1px 2px rgba(0, 0, 0, 0.3));\n",
              "      fill: #FFFFFF;\n",
              "    }\n",
              "  </style>\n",
              "\n",
              "      <script>\n",
              "        const buttonEl =\n",
              "          document.querySelector('#df-1bf2805f-c0c1-44a5-bf10-084134f82c3c button.colab-df-convert');\n",
              "        buttonEl.style.display =\n",
              "          google.colab.kernel.accessAllowed ? 'block' : 'none';\n",
              "\n",
              "        async function convertToInteractive(key) {\n",
              "          const element = document.querySelector('#df-1bf2805f-c0c1-44a5-bf10-084134f82c3c');\n",
              "          const dataTable =\n",
              "            await google.colab.kernel.invokeFunction('convertToInteractive',\n",
              "                                                     [key], {});\n",
              "          if (!dataTable) return;\n",
              "\n",
              "          const docLinkHtml = 'Like what you see? Visit the ' +\n",
              "            '<a target=\"_blank\" href=https://colab.research.google.com/notebooks/data_table.ipynb>data table notebook</a>'\n",
              "            + ' to learn more about interactive tables.';\n",
              "          element.innerHTML = '';\n",
              "          dataTable['output_type'] = 'display_data';\n",
              "          await google.colab.output.renderOutput(dataTable, element);\n",
              "          const docLink = document.createElement('div');\n",
              "          docLink.innerHTML = docLinkHtml;\n",
              "          element.appendChild(docLink);\n",
              "        }\n",
              "      </script>\n",
              "    </div>\n",
              "  </div>\n",
              "  "
            ]
          },
          "metadata": {},
          "execution_count": 101
        }
      ]
    },
    {
      "cell_type": "code",
      "source": [
        "# Calculating R2 value to evaluate model\n",
        "\n",
        "from sklearn import metrics\n",
        "\n",
        "print('Mean Absolute Error:', metrics.mean_absolute_error(y_test, y_pred_lin))\n",
        "print('Mean Squared Error:', metrics.mean_squared_error(y_test, y_pred_lin))\n",
        "print('R2 :', metrics.r2_score(y_test, y_pred_lin)*100)"
      ],
      "metadata": {
        "colab": {
          "base_uri": "https://localhost:8080/"
        },
        "id": "TOUXRftyEt4a",
        "outputId": "f3a3226d-41f7-41ee-dd70-e08ee73e07ae"
      },
      "execution_count": 102,
      "outputs": [
        {
          "output_type": "stream",
          "name": "stdout",
          "text": [
            "Mean Absolute Error: 62294.054912792526\n",
            "Mean Squared Error: 7659053766.326434\n",
            "R2 : 5.338290569654857\n"
          ]
        }
      ]
    },
    {
      "cell_type": "markdown",
      "source": [
        "KNN"
      ],
      "metadata": {
        "id": "jOoxPf9LFG8I"
      }
    },
    {
      "cell_type": "code",
      "source": [
        "# splitting test and train data\n",
        "\n",
        "from sklearn.model_selection import train_test_split\n",
        "x_train, x_test, y_train, y_test = train_test_split(x,y,test_size = 0.2, random_state=10)\n",
        "# Scaling of test and train data\n",
        "\n",
        "from sklearn.preprocessing import StandardScaler\n",
        "scaler=StandardScaler()\n",
        "scaler.fit(x_train, y_train)\n",
        "x_train_scaled = scaler.transform(x_train)\n",
        "x_test_scaled = scaler.transform(x_test)\n",
        "\n",
        "# fit the model\n",
        "\n",
        "from sklearn.neighbors import KNeighborsRegressor\n",
        "model_KNN=KNeighborsRegressor()\n",
        "model_KNN.fit(x_train,y_train)"
      ],
      "metadata": {
        "colab": {
          "base_uri": "https://localhost:8080/"
        },
        "id": "w92XDpJTFGi9",
        "outputId": "e3e7ba6e-c1e1-4442-e0fe-a0f3fbef4aed"
      },
      "execution_count": 103,
      "outputs": [
        {
          "output_type": "execute_result",
          "data": {
            "text/plain": [
              "KNeighborsRegressor()"
            ]
          },
          "metadata": {},
          "execution_count": 103
        }
      ]
    },
    {
      "cell_type": "code",
      "source": [
        "y_pred_KNN = model_KNN.predict(x_test)\n",
        "y_pred_KNN\n",
        "\n"
      ],
      "metadata": {
        "colab": {
          "base_uri": "https://localhost:8080/"
        },
        "id": "VhzDgYOMFQYy",
        "outputId": "b19e5df3-dcb5-49fc-ec93-045ba8f20308"
      },
      "execution_count": 104,
      "outputs": [
        {
          "output_type": "execute_result",
          "data": {
            "text/plain": [
              "array([ 38340.84 ,   9725.172,   5573.282,  32909.204, 129866.592,\n",
              "         6356.42 ,  33988.862, 188077.56 ,  10698.52 ,  21382.504,\n",
              "        22901.878, 135433.998,  55950.446,  17350.168,   9787.868,\n",
              "        18174.136,   7833.208,  24745.02 , 213231.082,   9124.286,\n",
              "       142937.222,  18378.512,  20291.274,  17198.1  ,  21851.192,\n",
              "         7627.96 , 151203.446, 268110.156,  27169.152,  17709.6  ,\n",
              "        24604.25 ,  18513.112,  16465.556,  89665.158,  22263.422,\n",
              "        13779.152,  14407.426, 118945.592, 110639.04 , 151203.446,\n",
              "        16396.38 ,  11827.58 , 107424.996,   6689.242,  11549.82 ,\n",
              "        25557.336, 148985.892,   7038.402, 268110.156,  25557.336,\n",
              "        95795.682,  21003.876,  17001.67 , 157000.832, 176777.304,\n",
              "        17501.524,  24492.762,  13149.262, 120000.416,  29492.074,\n",
              "        27301.3  ,  89665.158,  20493.4  ,  61859.872, 210902.036,\n",
              "         6689.242,  17816.014, 244268.16 ,  22901.878, 174081.756,\n",
              "       157899.724, 195406.596,  95795.682,  17609.71 ,  24876.288,\n",
              "        31475.78 ,  22843.678, 184787.04 ,   4065.748, 112489.91 ,\n",
              "       132576.942, -10306.79 , 174157.996,  29837.948,   4453.372,\n",
              "       174654.076,  29837.948,  14407.426,   9787.868,  30335.804,\n",
              "        16462.628,   5077.216, 142046.022, 144465.516,  22688.366,\n",
              "        26708.936,  27024.13 ,  14902.068,  21851.192,   3557.96 ,\n",
              "       110508.266,  22320.222,  25557.336, 170558.596,  11603.81 ,\n",
              "         6829.602,   9124.286, 110508.266, 168838.218,  58325.03 ,\n",
              "        35309.426, 258019.85 ,  19802.706,   7557.684,  20891.21 ,\n",
              "        10307.02 , 135433.998,   8814.316,  20780.278,  38474.28 ,\n",
              "        49455.68 ,   7392.848, 191101.968,  52952.538,  71916.464,\n",
              "        10541.47 , 192370.434, 131619.22 ,  89141.756,  10337.266,\n",
              "       160161.956,  16346.818,  31374.338,  54871.334,  24584.706,\n",
              "        -4117.01 ,  20291.274, 186489.   , 129693.766,   9124.286,\n",
              "        20291.274, 120336.108,  55105.108,  20291.274,  22835.678,\n",
              "        30965.53 ,  24023.438,   7038.402,  89141.756,   6829.602,\n",
              "       118471.992,  11827.58 ,  62085.344,  21382.504, 120000.416,\n",
              "       141951.698,  29629.148,  18694.416,  10321.268,   7557.684,\n",
              "       151203.446, 192370.434,   2759.83 , -36437.05 , 192370.434,\n",
              "        32909.204, 142937.222, 258019.85 , 168838.218,  11863.014,\n",
              "        20143.222,  89665.158,  56084.318,  99583.816,   5573.282,\n",
              "        34698.424,  17920.518,   6356.42 ,  11065.512,   7638.656,\n",
              "        20030.12 ,  25407.288,  15498.02 , 175582.228, 142937.222,\n",
              "        18518.244,  23294.47 ,  32544.618,  61859.872, 143146.022,\n",
              "        52952.538,  38474.28 ,  43296.376,  37397.55 ,  13481.494,\n",
              "       186489.   ,  30756.73 ,  19928.796, 112489.91 ,   7557.684,\n",
              "        80028.21 ,  13782.63 , 258019.85 ,  25700.01 ,  23294.078,\n",
              "        22688.366,   7377.81 ,   8562.2  ,  31374.338,   2791.778,\n",
              "        26794.602,  25407.288,  13149.262,  28411.444,   6436.048,\n",
              "        23867.71 ,  30965.53 ,   8814.316,  22901.878,   6729.246,\n",
              "       192370.434, 147174.428,  -7932.546,  14826.898, 174157.996,\n",
              "        28202.89 ,   7038.402, 142279.678, 244268.16 ,   9190.092,\n",
              "       144465.516,  17923.284, 327444.06 ,  26101.548,  23867.71 ,\n",
              "        41136.532,  30838.24 ])"
            ]
          },
          "metadata": {},
          "execution_count": 104
        }
      ]
    },
    {
      "cell_type": "code",
      "source": [
        "# Actual and Predicted values\n",
        "\n",
        "Data_KNN= pd.DataFrame({'Actual': y_test, 'Predicted': y_pred_KNN})\n",
        "Data_KNN"
      ],
      "metadata": {
        "colab": {
          "base_uri": "https://localhost:8080/",
          "height": 424
        },
        "id": "WolClENQFVGX",
        "outputId": "a20a8ba6-4570-4454-e774-ed3e27ea7c30"
      },
      "execution_count": 105,
      "outputs": [
        {
          "output_type": "execute_result",
          "data": {
            "text/plain": [
              "        Actual   Predicted\n",
              "0     21776.70   38340.840\n",
              "1      1247.42    9725.172\n",
              "2      6174.08    5573.282\n",
              "3     16331.99   32909.204\n",
              "4     13486.14  129866.592\n",
              "..         ...         ...\n",
              "232  190817.82  327444.060\n",
              "233   10114.41   26101.548\n",
              "234   16828.05   23867.710\n",
              "235   19970.29   41136.532\n",
              "236   10990.05   30838.240\n",
              "\n",
              "[237 rows x 2 columns]"
            ],
            "text/html": [
              "\n",
              "  <div id=\"df-82c0a7ba-06c6-43b5-9583-7f9490a28e85\">\n",
              "    <div class=\"colab-df-container\">\n",
              "      <div>\n",
              "<style scoped>\n",
              "    .dataframe tbody tr th:only-of-type {\n",
              "        vertical-align: middle;\n",
              "    }\n",
              "\n",
              "    .dataframe tbody tr th {\n",
              "        vertical-align: top;\n",
              "    }\n",
              "\n",
              "    .dataframe thead th {\n",
              "        text-align: right;\n",
              "    }\n",
              "</style>\n",
              "<table border=\"1\" class=\"dataframe\">\n",
              "  <thead>\n",
              "    <tr style=\"text-align: right;\">\n",
              "      <th></th>\n",
              "      <th>Actual</th>\n",
              "      <th>Predicted</th>\n",
              "    </tr>\n",
              "  </thead>\n",
              "  <tbody>\n",
              "    <tr>\n",
              "      <th>0</th>\n",
              "      <td>21776.70</td>\n",
              "      <td>38340.840</td>\n",
              "    </tr>\n",
              "    <tr>\n",
              "      <th>1</th>\n",
              "      <td>1247.42</td>\n",
              "      <td>9725.172</td>\n",
              "    </tr>\n",
              "    <tr>\n",
              "      <th>2</th>\n",
              "      <td>6174.08</td>\n",
              "      <td>5573.282</td>\n",
              "    </tr>\n",
              "    <tr>\n",
              "      <th>3</th>\n",
              "      <td>16331.99</td>\n",
              "      <td>32909.204</td>\n",
              "    </tr>\n",
              "    <tr>\n",
              "      <th>4</th>\n",
              "      <td>13486.14</td>\n",
              "      <td>129866.592</td>\n",
              "    </tr>\n",
              "    <tr>\n",
              "      <th>...</th>\n",
              "      <td>...</td>\n",
              "      <td>...</td>\n",
              "    </tr>\n",
              "    <tr>\n",
              "      <th>232</th>\n",
              "      <td>190817.82</td>\n",
              "      <td>327444.060</td>\n",
              "    </tr>\n",
              "    <tr>\n",
              "      <th>233</th>\n",
              "      <td>10114.41</td>\n",
              "      <td>26101.548</td>\n",
              "    </tr>\n",
              "    <tr>\n",
              "      <th>234</th>\n",
              "      <td>16828.05</td>\n",
              "      <td>23867.710</td>\n",
              "    </tr>\n",
              "    <tr>\n",
              "      <th>235</th>\n",
              "      <td>19970.29</td>\n",
              "      <td>41136.532</td>\n",
              "    </tr>\n",
              "    <tr>\n",
              "      <th>236</th>\n",
              "      <td>10990.05</td>\n",
              "      <td>30838.240</td>\n",
              "    </tr>\n",
              "  </tbody>\n",
              "</table>\n",
              "<p>237 rows × 2 columns</p>\n",
              "</div>\n",
              "      <button class=\"colab-df-convert\" onclick=\"convertToInteractive('df-82c0a7ba-06c6-43b5-9583-7f9490a28e85')\"\n",
              "              title=\"Convert this dataframe to an interactive table.\"\n",
              "              style=\"display:none;\">\n",
              "        \n",
              "  <svg xmlns=\"http://www.w3.org/2000/svg\" height=\"24px\"viewBox=\"0 0 24 24\"\n",
              "       width=\"24px\">\n",
              "    <path d=\"M0 0h24v24H0V0z\" fill=\"none\"/>\n",
              "    <path d=\"M18.56 5.44l.94 2.06.94-2.06 2.06-.94-2.06-.94-.94-2.06-.94 2.06-2.06.94zm-11 1L8.5 8.5l.94-2.06 2.06-.94-2.06-.94L8.5 2.5l-.94 2.06-2.06.94zm10 10l.94 2.06.94-2.06 2.06-.94-2.06-.94-.94-2.06-.94 2.06-2.06.94z\"/><path d=\"M17.41 7.96l-1.37-1.37c-.4-.4-.92-.59-1.43-.59-.52 0-1.04.2-1.43.59L10.3 9.45l-7.72 7.72c-.78.78-.78 2.05 0 2.83L4 21.41c.39.39.9.59 1.41.59.51 0 1.02-.2 1.41-.59l7.78-7.78 2.81-2.81c.8-.78.8-2.07 0-2.86zM5.41 20L4 18.59l7.72-7.72 1.47 1.35L5.41 20z\"/>\n",
              "  </svg>\n",
              "      </button>\n",
              "      \n",
              "  <style>\n",
              "    .colab-df-container {\n",
              "      display:flex;\n",
              "      flex-wrap:wrap;\n",
              "      gap: 12px;\n",
              "    }\n",
              "\n",
              "    .colab-df-convert {\n",
              "      background-color: #E8F0FE;\n",
              "      border: none;\n",
              "      border-radius: 50%;\n",
              "      cursor: pointer;\n",
              "      display: none;\n",
              "      fill: #1967D2;\n",
              "      height: 32px;\n",
              "      padding: 0 0 0 0;\n",
              "      width: 32px;\n",
              "    }\n",
              "\n",
              "    .colab-df-convert:hover {\n",
              "      background-color: #E2EBFA;\n",
              "      box-shadow: 0px 1px 2px rgba(60, 64, 67, 0.3), 0px 1px 3px 1px rgba(60, 64, 67, 0.15);\n",
              "      fill: #174EA6;\n",
              "    }\n",
              "\n",
              "    [theme=dark] .colab-df-convert {\n",
              "      background-color: #3B4455;\n",
              "      fill: #D2E3FC;\n",
              "    }\n",
              "\n",
              "    [theme=dark] .colab-df-convert:hover {\n",
              "      background-color: #434B5C;\n",
              "      box-shadow: 0px 1px 3px 1px rgba(0, 0, 0, 0.15);\n",
              "      filter: drop-shadow(0px 1px 2px rgba(0, 0, 0, 0.3));\n",
              "      fill: #FFFFFF;\n",
              "    }\n",
              "  </style>\n",
              "\n",
              "      <script>\n",
              "        const buttonEl =\n",
              "          document.querySelector('#df-82c0a7ba-06c6-43b5-9583-7f9490a28e85 button.colab-df-convert');\n",
              "        buttonEl.style.display =\n",
              "          google.colab.kernel.accessAllowed ? 'block' : 'none';\n",
              "\n",
              "        async function convertToInteractive(key) {\n",
              "          const element = document.querySelector('#df-82c0a7ba-06c6-43b5-9583-7f9490a28e85');\n",
              "          const dataTable =\n",
              "            await google.colab.kernel.invokeFunction('convertToInteractive',\n",
              "                                                     [key], {});\n",
              "          if (!dataTable) return;\n",
              "\n",
              "          const docLinkHtml = 'Like what you see? Visit the ' +\n",
              "            '<a target=\"_blank\" href=https://colab.research.google.com/notebooks/data_table.ipynb>data table notebook</a>'\n",
              "            + ' to learn more about interactive tables.';\n",
              "          element.innerHTML = '';\n",
              "          dataTable['output_type'] = 'display_data';\n",
              "          await google.colab.output.renderOutput(dataTable, element);\n",
              "          const docLink = document.createElement('div');\n",
              "          docLink.innerHTML = docLinkHtml;\n",
              "          element.appendChild(docLink);\n",
              "        }\n",
              "      </script>\n",
              "    </div>\n",
              "  </div>\n",
              "  "
            ]
          },
          "metadata": {},
          "execution_count": 105
        }
      ]
    },
    {
      "cell_type": "code",
      "source": [
        "# Calculating R2 value to evaluate model\n",
        "\n",
        "from sklearn import metrics\n",
        "\n",
        "print('Mean Absolute Error:', metrics.mean_absolute_error(y_test, y_pred_KNN))\n",
        "print('Mean Squared Error:', metrics.mean_squared_error(y_test, y_pred_KNN))\n",
        "print('R2 :', metrics.r2_score(y_test, y_pred_KNN)*100)"
      ],
      "metadata": {
        "colab": {
          "base_uri": "https://localhost:8080/"
        },
        "id": "u0PVNKuxFX_Q",
        "outputId": "48406d62-ff4b-4930-f7b6-a768d088fcb0"
      },
      "execution_count": 106,
      "outputs": [
        {
          "output_type": "stream",
          "name": "stdout",
          "text": [
            "Mean Absolute Error: 35052.02029535865\n",
            "Mean Squared Error: 4281592191.271169\n",
            "R2 : 47.08186568799289\n"
          ]
        }
      ]
    },
    {
      "cell_type": "markdown",
      "source": [
        "Decision Tree"
      ],
      "metadata": {
        "id": "j5yXwMpXFizX"
      }
    },
    {
      "cell_type": "code",
      "source": [
        "# Train test splitting of data\n",
        "\n",
        "from sklearn.model_selection import train_test_split\n",
        "x_train, x_test, y_train, y_test = train_test_split(x,y,test_size = 0.25, random_state=10)\n",
        "# Scaling the data\n",
        "\n",
        "from sklearn.preprocessing import StandardScaler\n",
        "scaler = StandardScaler()\n",
        "scaler.fit(x_train)\n",
        "x_train = scaler.transform(x_train)\n",
        "x_test=scaler.transform(x_test)\n",
        "# Trying to get appropriate depth of data\n",
        "\n",
        "from sklearn.tree import DecisionTreeRegressor\n",
        "from sklearn import metrics\n",
        "from sklearn.model_selection import cross_val_score\n",
        "from sklearn.metrics import make_scorer\n",
        "import numpy as np\n",
        "\n",
        "for depth in [1,2,3,4,5,6,7,8,9,10,20,40,60,100,150,200,500]:\n",
        "  dt = DecisionTreeRegressor(max_depth=depth)\n",
        "  dt.fit(x_train, y_train) # the model is trained\n",
        "  valAccuracy = cross_val_score(dt, x_train, y_train, cv=10, scoring = make_scorer(metrics.r2_score))\n",
        "  print(\"DEPTH: \",depth,\"R2-Score: \",np.mean(valAccuracy))"
      ],
      "metadata": {
        "colab": {
          "base_uri": "https://localhost:8080/"
        },
        "id": "clt60dCAFcqK",
        "outputId": "4a0834eb-d9e1-4788-989d-93b00fbc0bc1"
      },
      "execution_count": 107,
      "outputs": [
        {
          "output_type": "stream",
          "name": "stdout",
          "text": [
            "DEPTH:  1 R2-Score:  0.15667198679993302\n",
            "DEPTH:  2 R2-Score:  0.17529936851351308\n",
            "DEPTH:  3 R2-Score:  0.2425487009028267\n",
            "DEPTH:  4 R2-Score:  0.18055749035694268\n",
            "DEPTH:  5 R2-Score:  0.2794668490714595\n",
            "DEPTH:  6 R2-Score:  0.31465029068254036\n",
            "DEPTH:  7 R2-Score:  0.33596733085411107\n",
            "DEPTH:  8 R2-Score:  0.21308373334061073\n",
            "DEPTH:  9 R2-Score:  0.31259714039203723\n",
            "DEPTH:  10 R2-Score:  0.24281977752274905\n",
            "DEPTH:  20 R2-Score:  0.29261751463695407\n",
            "DEPTH:  40 R2-Score:  0.3387190164354478\n",
            "DEPTH:  60 R2-Score:  0.30767466714773406\n",
            "DEPTH:  100 R2-Score:  0.2842906402835957\n",
            "DEPTH:  150 R2-Score:  0.274811035378561\n",
            "DEPTH:  200 R2-Score:  0.3090672097156209\n",
            "DEPTH:  500 R2-Score:  0.3184173462693239\n"
          ]
        }
      ]
    },
    {
      "cell_type": "code",
      "source": [
        "# fit the model\n",
        "\n",
        "dt = DecisionTreeRegressor(max_depth=60)\n",
        "dt.fit(x_train, y_train)\n",
        "\n",
        "y_pred_tree = dt.predict(x_test)\n",
        "\n",
        "# Actual vs Predicted values\n",
        "\n",
        "df_tree=pd.DataFrame({'Actual':y_test, 'Predicted':y_pred_tree})\n",
        "df_tree"
      ],
      "metadata": {
        "colab": {
          "base_uri": "https://localhost:8080/",
          "height": 424
        },
        "id": "NJn4YmnbF1rp",
        "outputId": "dde00305-dc22-41b8-875f-96778f1bb1a6"
      },
      "execution_count": 108,
      "outputs": [
        {
          "output_type": "execute_result",
          "data": {
            "text/plain": [
              "       Actual  Predicted\n",
              "0    21776.70   22250.34\n",
              "1     1247.42   12209.18\n",
              "2     6174.08    5130.08\n",
              "3    16331.99   16331.99\n",
              "4    13486.14  462337.64\n",
              "..        ...        ...\n",
              "291  10105.04     203.42\n",
              "292  32462.47   32131.47\n",
              "293  27154.93   27154.93\n",
              "294  14028.68  119617.33\n",
              "295 -17023.45  -17023.45\n",
              "\n",
              "[296 rows x 2 columns]"
            ],
            "text/html": [
              "\n",
              "  <div id=\"df-3bf0c3cd-8bee-47f9-967f-2862a1dfcbed\">\n",
              "    <div class=\"colab-df-container\">\n",
              "      <div>\n",
              "<style scoped>\n",
              "    .dataframe tbody tr th:only-of-type {\n",
              "        vertical-align: middle;\n",
              "    }\n",
              "\n",
              "    .dataframe tbody tr th {\n",
              "        vertical-align: top;\n",
              "    }\n",
              "\n",
              "    .dataframe thead th {\n",
              "        text-align: right;\n",
              "    }\n",
              "</style>\n",
              "<table border=\"1\" class=\"dataframe\">\n",
              "  <thead>\n",
              "    <tr style=\"text-align: right;\">\n",
              "      <th></th>\n",
              "      <th>Actual</th>\n",
              "      <th>Predicted</th>\n",
              "    </tr>\n",
              "  </thead>\n",
              "  <tbody>\n",
              "    <tr>\n",
              "      <th>0</th>\n",
              "      <td>21776.70</td>\n",
              "      <td>22250.34</td>\n",
              "    </tr>\n",
              "    <tr>\n",
              "      <th>1</th>\n",
              "      <td>1247.42</td>\n",
              "      <td>12209.18</td>\n",
              "    </tr>\n",
              "    <tr>\n",
              "      <th>2</th>\n",
              "      <td>6174.08</td>\n",
              "      <td>5130.08</td>\n",
              "    </tr>\n",
              "    <tr>\n",
              "      <th>3</th>\n",
              "      <td>16331.99</td>\n",
              "      <td>16331.99</td>\n",
              "    </tr>\n",
              "    <tr>\n",
              "      <th>4</th>\n",
              "      <td>13486.14</td>\n",
              "      <td>462337.64</td>\n",
              "    </tr>\n",
              "    <tr>\n",
              "      <th>...</th>\n",
              "      <td>...</td>\n",
              "      <td>...</td>\n",
              "    </tr>\n",
              "    <tr>\n",
              "      <th>291</th>\n",
              "      <td>10105.04</td>\n",
              "      <td>203.42</td>\n",
              "    </tr>\n",
              "    <tr>\n",
              "      <th>292</th>\n",
              "      <td>32462.47</td>\n",
              "      <td>32131.47</td>\n",
              "    </tr>\n",
              "    <tr>\n",
              "      <th>293</th>\n",
              "      <td>27154.93</td>\n",
              "      <td>27154.93</td>\n",
              "    </tr>\n",
              "    <tr>\n",
              "      <th>294</th>\n",
              "      <td>14028.68</td>\n",
              "      <td>119617.33</td>\n",
              "    </tr>\n",
              "    <tr>\n",
              "      <th>295</th>\n",
              "      <td>-17023.45</td>\n",
              "      <td>-17023.45</td>\n",
              "    </tr>\n",
              "  </tbody>\n",
              "</table>\n",
              "<p>296 rows × 2 columns</p>\n",
              "</div>\n",
              "      <button class=\"colab-df-convert\" onclick=\"convertToInteractive('df-3bf0c3cd-8bee-47f9-967f-2862a1dfcbed')\"\n",
              "              title=\"Convert this dataframe to an interactive table.\"\n",
              "              style=\"display:none;\">\n",
              "        \n",
              "  <svg xmlns=\"http://www.w3.org/2000/svg\" height=\"24px\"viewBox=\"0 0 24 24\"\n",
              "       width=\"24px\">\n",
              "    <path d=\"M0 0h24v24H0V0z\" fill=\"none\"/>\n",
              "    <path d=\"M18.56 5.44l.94 2.06.94-2.06 2.06-.94-2.06-.94-.94-2.06-.94 2.06-2.06.94zm-11 1L8.5 8.5l.94-2.06 2.06-.94-2.06-.94L8.5 2.5l-.94 2.06-2.06.94zm10 10l.94 2.06.94-2.06 2.06-.94-2.06-.94-.94-2.06-.94 2.06-2.06.94z\"/><path d=\"M17.41 7.96l-1.37-1.37c-.4-.4-.92-.59-1.43-.59-.52 0-1.04.2-1.43.59L10.3 9.45l-7.72 7.72c-.78.78-.78 2.05 0 2.83L4 21.41c.39.39.9.59 1.41.59.51 0 1.02-.2 1.41-.59l7.78-7.78 2.81-2.81c.8-.78.8-2.07 0-2.86zM5.41 20L4 18.59l7.72-7.72 1.47 1.35L5.41 20z\"/>\n",
              "  </svg>\n",
              "      </button>\n",
              "      \n",
              "  <style>\n",
              "    .colab-df-container {\n",
              "      display:flex;\n",
              "      flex-wrap:wrap;\n",
              "      gap: 12px;\n",
              "    }\n",
              "\n",
              "    .colab-df-convert {\n",
              "      background-color: #E8F0FE;\n",
              "      border: none;\n",
              "      border-radius: 50%;\n",
              "      cursor: pointer;\n",
              "      display: none;\n",
              "      fill: #1967D2;\n",
              "      height: 32px;\n",
              "      padding: 0 0 0 0;\n",
              "      width: 32px;\n",
              "    }\n",
              "\n",
              "    .colab-df-convert:hover {\n",
              "      background-color: #E2EBFA;\n",
              "      box-shadow: 0px 1px 2px rgba(60, 64, 67, 0.3), 0px 1px 3px 1px rgba(60, 64, 67, 0.15);\n",
              "      fill: #174EA6;\n",
              "    }\n",
              "\n",
              "    [theme=dark] .colab-df-convert {\n",
              "      background-color: #3B4455;\n",
              "      fill: #D2E3FC;\n",
              "    }\n",
              "\n",
              "    [theme=dark] .colab-df-convert:hover {\n",
              "      background-color: #434B5C;\n",
              "      box-shadow: 0px 1px 3px 1px rgba(0, 0, 0, 0.15);\n",
              "      filter: drop-shadow(0px 1px 2px rgba(0, 0, 0, 0.3));\n",
              "      fill: #FFFFFF;\n",
              "    }\n",
              "  </style>\n",
              "\n",
              "      <script>\n",
              "        const buttonEl =\n",
              "          document.querySelector('#df-3bf0c3cd-8bee-47f9-967f-2862a1dfcbed button.colab-df-convert');\n",
              "        buttonEl.style.display =\n",
              "          google.colab.kernel.accessAllowed ? 'block' : 'none';\n",
              "\n",
              "        async function convertToInteractive(key) {\n",
              "          const element = document.querySelector('#df-3bf0c3cd-8bee-47f9-967f-2862a1dfcbed');\n",
              "          const dataTable =\n",
              "            await google.colab.kernel.invokeFunction('convertToInteractive',\n",
              "                                                     [key], {});\n",
              "          if (!dataTable) return;\n",
              "\n",
              "          const docLinkHtml = 'Like what you see? Visit the ' +\n",
              "            '<a target=\"_blank\" href=https://colab.research.google.com/notebooks/data_table.ipynb>data table notebook</a>'\n",
              "            + ' to learn more about interactive tables.';\n",
              "          element.innerHTML = '';\n",
              "          dataTable['output_type'] = 'display_data';\n",
              "          await google.colab.output.renderOutput(dataTable, element);\n",
              "          const docLink = document.createElement('div');\n",
              "          docLink.innerHTML = docLinkHtml;\n",
              "          element.appendChild(docLink);\n",
              "        }\n",
              "      </script>\n",
              "    </div>\n",
              "  </div>\n",
              "  "
            ]
          },
          "metadata": {},
          "execution_count": 108
        }
      ]
    },
    {
      "cell_type": "code",
      "source": [
        "# Calculating R2 value to evaluate model\n",
        "\n",
        "from sklearn import metrics\n",
        "\n",
        "print('Mean Absolute Error:', metrics.mean_absolute_error(y_test, y_pred_tree))\n",
        "print('Mean Squared Error:', metrics.mean_squared_error(y_test, y_pred_tree))\n",
        "print('R2 :', metrics.r2_score(y_test, y_pred_tree)*100)"
      ],
      "metadata": {
        "colab": {
          "base_uri": "https://localhost:8080/"
        },
        "id": "wEm7xeVsGEgs",
        "outputId": "9a928808-2d5d-4b4f-9402-1481fb02ea8e"
      },
      "execution_count": 109,
      "outputs": [
        {
          "output_type": "stream",
          "name": "stdout",
          "text": [
            "Mean Absolute Error: 21646.959932432434\n",
            "Mean Squared Error: 5475420998.502913\n",
            "R2 : 33.128024906586376\n"
          ]
        }
      ]
    },
    {
      "cell_type": "markdown",
      "source": [
        "Random Forest"
      ],
      "metadata": {
        "id": "WJAjtA_kGS7S"
      }
    },
    {
      "cell_type": "code",
      "source": [
        "from sklearn.ensemble import RandomForestRegressor\n",
        "from sklearn.metrics import r2_score\n",
        "\n",
        "rf = RandomForestRegressor(n_estimators= 100, max_depth = 2, max_features='sqrt')\n",
        "rf.fit(x_train, y_train)\n",
        "\n",
        "y_pred_rf = rf.predict(x_test)\n",
        "Data_rf= pd.DataFrame({'Actual': y_test, 'Predicted': y_pred_rf})\n",
        "Data_rf"
      ],
      "metadata": {
        "colab": {
          "base_uri": "https://localhost:8080/",
          "height": 424
        },
        "id": "2F47EbRNGKGa",
        "outputId": "e2582d5b-c561-4ee7-d696-6e5bccf74782"
      },
      "execution_count": 110,
      "outputs": [
        {
          "output_type": "execute_result",
          "data": {
            "text/plain": [
              "       Actual     Predicted\n",
              "0    21776.70  54489.091705\n",
              "1     1247.42  48920.587077\n",
              "2     6174.08  56297.674345\n",
              "3    16331.99  53900.789780\n",
              "4    13486.14  58430.529305\n",
              "..        ...           ...\n",
              "291  10105.04  49245.122080\n",
              "292  32462.47  54884.501981\n",
              "293  27154.93  53258.725610\n",
              "294  14028.68  53258.725610\n",
              "295 -17023.45  43250.389162\n",
              "\n",
              "[296 rows x 2 columns]"
            ],
            "text/html": [
              "\n",
              "  <div id=\"df-68e4c8eb-b01d-4f5f-acda-9068acbda85c\">\n",
              "    <div class=\"colab-df-container\">\n",
              "      <div>\n",
              "<style scoped>\n",
              "    .dataframe tbody tr th:only-of-type {\n",
              "        vertical-align: middle;\n",
              "    }\n",
              "\n",
              "    .dataframe tbody tr th {\n",
              "        vertical-align: top;\n",
              "    }\n",
              "\n",
              "    .dataframe thead th {\n",
              "        text-align: right;\n",
              "    }\n",
              "</style>\n",
              "<table border=\"1\" class=\"dataframe\">\n",
              "  <thead>\n",
              "    <tr style=\"text-align: right;\">\n",
              "      <th></th>\n",
              "      <th>Actual</th>\n",
              "      <th>Predicted</th>\n",
              "    </tr>\n",
              "  </thead>\n",
              "  <tbody>\n",
              "    <tr>\n",
              "      <th>0</th>\n",
              "      <td>21776.70</td>\n",
              "      <td>54489.091705</td>\n",
              "    </tr>\n",
              "    <tr>\n",
              "      <th>1</th>\n",
              "      <td>1247.42</td>\n",
              "      <td>48920.587077</td>\n",
              "    </tr>\n",
              "    <tr>\n",
              "      <th>2</th>\n",
              "      <td>6174.08</td>\n",
              "      <td>56297.674345</td>\n",
              "    </tr>\n",
              "    <tr>\n",
              "      <th>3</th>\n",
              "      <td>16331.99</td>\n",
              "      <td>53900.789780</td>\n",
              "    </tr>\n",
              "    <tr>\n",
              "      <th>4</th>\n",
              "      <td>13486.14</td>\n",
              "      <td>58430.529305</td>\n",
              "    </tr>\n",
              "    <tr>\n",
              "      <th>...</th>\n",
              "      <td>...</td>\n",
              "      <td>...</td>\n",
              "    </tr>\n",
              "    <tr>\n",
              "      <th>291</th>\n",
              "      <td>10105.04</td>\n",
              "      <td>49245.122080</td>\n",
              "    </tr>\n",
              "    <tr>\n",
              "      <th>292</th>\n",
              "      <td>32462.47</td>\n",
              "      <td>54884.501981</td>\n",
              "    </tr>\n",
              "    <tr>\n",
              "      <th>293</th>\n",
              "      <td>27154.93</td>\n",
              "      <td>53258.725610</td>\n",
              "    </tr>\n",
              "    <tr>\n",
              "      <th>294</th>\n",
              "      <td>14028.68</td>\n",
              "      <td>53258.725610</td>\n",
              "    </tr>\n",
              "    <tr>\n",
              "      <th>295</th>\n",
              "      <td>-17023.45</td>\n",
              "      <td>43250.389162</td>\n",
              "    </tr>\n",
              "  </tbody>\n",
              "</table>\n",
              "<p>296 rows × 2 columns</p>\n",
              "</div>\n",
              "      <button class=\"colab-df-convert\" onclick=\"convertToInteractive('df-68e4c8eb-b01d-4f5f-acda-9068acbda85c')\"\n",
              "              title=\"Convert this dataframe to an interactive table.\"\n",
              "              style=\"display:none;\">\n",
              "        \n",
              "  <svg xmlns=\"http://www.w3.org/2000/svg\" height=\"24px\"viewBox=\"0 0 24 24\"\n",
              "       width=\"24px\">\n",
              "    <path d=\"M0 0h24v24H0V0z\" fill=\"none\"/>\n",
              "    <path d=\"M18.56 5.44l.94 2.06.94-2.06 2.06-.94-2.06-.94-.94-2.06-.94 2.06-2.06.94zm-11 1L8.5 8.5l.94-2.06 2.06-.94-2.06-.94L8.5 2.5l-.94 2.06-2.06.94zm10 10l.94 2.06.94-2.06 2.06-.94-2.06-.94-.94-2.06-.94 2.06-2.06.94z\"/><path d=\"M17.41 7.96l-1.37-1.37c-.4-.4-.92-.59-1.43-.59-.52 0-1.04.2-1.43.59L10.3 9.45l-7.72 7.72c-.78.78-.78 2.05 0 2.83L4 21.41c.39.39.9.59 1.41.59.51 0 1.02-.2 1.41-.59l7.78-7.78 2.81-2.81c.8-.78.8-2.07 0-2.86zM5.41 20L4 18.59l7.72-7.72 1.47 1.35L5.41 20z\"/>\n",
              "  </svg>\n",
              "      </button>\n",
              "      \n",
              "  <style>\n",
              "    .colab-df-container {\n",
              "      display:flex;\n",
              "      flex-wrap:wrap;\n",
              "      gap: 12px;\n",
              "    }\n",
              "\n",
              "    .colab-df-convert {\n",
              "      background-color: #E8F0FE;\n",
              "      border: none;\n",
              "      border-radius: 50%;\n",
              "      cursor: pointer;\n",
              "      display: none;\n",
              "      fill: #1967D2;\n",
              "      height: 32px;\n",
              "      padding: 0 0 0 0;\n",
              "      width: 32px;\n",
              "    }\n",
              "\n",
              "    .colab-df-convert:hover {\n",
              "      background-color: #E2EBFA;\n",
              "      box-shadow: 0px 1px 2px rgba(60, 64, 67, 0.3), 0px 1px 3px 1px rgba(60, 64, 67, 0.15);\n",
              "      fill: #174EA6;\n",
              "    }\n",
              "\n",
              "    [theme=dark] .colab-df-convert {\n",
              "      background-color: #3B4455;\n",
              "      fill: #D2E3FC;\n",
              "    }\n",
              "\n",
              "    [theme=dark] .colab-df-convert:hover {\n",
              "      background-color: #434B5C;\n",
              "      box-shadow: 0px 1px 3px 1px rgba(0, 0, 0, 0.15);\n",
              "      filter: drop-shadow(0px 1px 2px rgba(0, 0, 0, 0.3));\n",
              "      fill: #FFFFFF;\n",
              "    }\n",
              "  </style>\n",
              "\n",
              "      <script>\n",
              "        const buttonEl =\n",
              "          document.querySelector('#df-68e4c8eb-b01d-4f5f-acda-9068acbda85c button.colab-df-convert');\n",
              "        buttonEl.style.display =\n",
              "          google.colab.kernel.accessAllowed ? 'block' : 'none';\n",
              "\n",
              "        async function convertToInteractive(key) {\n",
              "          const element = document.querySelector('#df-68e4c8eb-b01d-4f5f-acda-9068acbda85c');\n",
              "          const dataTable =\n",
              "            await google.colab.kernel.invokeFunction('convertToInteractive',\n",
              "                                                     [key], {});\n",
              "          if (!dataTable) return;\n",
              "\n",
              "          const docLinkHtml = 'Like what you see? Visit the ' +\n",
              "            '<a target=\"_blank\" href=https://colab.research.google.com/notebooks/data_table.ipynb>data table notebook</a>'\n",
              "            + ' to learn more about interactive tables.';\n",
              "          element.innerHTML = '';\n",
              "          dataTable['output_type'] = 'display_data';\n",
              "          await google.colab.output.renderOutput(dataTable, element);\n",
              "          const docLink = document.createElement('div');\n",
              "          docLink.innerHTML = docLinkHtml;\n",
              "          element.appendChild(docLink);\n",
              "        }\n",
              "      </script>\n",
              "    </div>\n",
              "  </div>\n",
              "  "
            ]
          },
          "metadata": {},
          "execution_count": 110
        }
      ]
    },
    {
      "cell_type": "code",
      "source": [
        "# Calculating R2 value to evaluate model\n",
        "\n",
        "from sklearn import metrics\n",
        "\n",
        "print('Mean Absolute Error:', metrics.mean_absolute_error(y_test, y_pred_rf))\n",
        "print('Mean Squared Error:', metrics.mean_squared_error(y_test, y_pred_rf))\n",
        "print('R2 :', metrics.r2_score(y_test, y_pred_rf)*100)"
      ],
      "metadata": {
        "colab": {
          "base_uri": "https://localhost:8080/"
        },
        "id": "mmvts7jnGhTC",
        "outputId": "f3b4bdfa-3609-4461-82ba-c0d559076f2b"
      },
      "execution_count": 111,
      "outputs": [
        {
          "output_type": "stream",
          "name": "stdout",
          "text": [
            "Mean Absolute Error: 56595.41046658929\n",
            "Mean Squared Error: 7017727929.944577\n",
            "R2 : 14.291644885038114\n"
          ]
        }
      ]
    },
    {
      "cell_type": "markdown",
      "source": [
        "XGBOOST"
      ],
      "metadata": {
        "id": "OrlEGL_cGnKJ"
      }
    },
    {
      "cell_type": "code",
      "source": [
        "from sklearn.model_selection import train_test_split\n",
        "x_train,x_test,y_train,y_test=train_test_split(x,y,test_size=0.15,random_state=500)"
      ],
      "metadata": {
        "id": "DdSjpNfRGmvK"
      },
      "execution_count": 112,
      "outputs": []
    },
    {
      "cell_type": "code",
      "source": [
        "import xgboost as xgb\n",
        "from sklearn.model_selection import cross_val_score\n",
        "import numpy as np\n",
        "for lr in [0.01,0.02,0.03,0.04,0.05,0.1,0.11,0.12,0.13,0.14,0.15,0.2,0.5,0.7,1]:\n",
        "  model = xgb.XGBRegressor(learning_rate = lr, n_estimators=100, verbosity = 0) # initialise the model\n",
        "  model.fit(x_train,y_train) #train the model\n",
        "  model.score(x_test, y_test) # scoring the model - r2 squared\n",
        "  print(\"Learning rate : \", lr, \" Train score : \", model.score(x_train,y_train), \" Cross-Val score : \", np.mean(cross_val_score(model, x_train, y_train, cv=10)))"
      ],
      "metadata": {
        "colab": {
          "base_uri": "https://localhost:8080/"
        },
        "id": "MZxv_zy_Gxrg",
        "outputId": "1d8b4301-d64c-4a65-bbd1-f5edaefbbf23"
      },
      "execution_count": 113,
      "outputs": [
        {
          "output_type": "stream",
          "name": "stdout",
          "text": [
            "Learning rate :  0.01  Train score :  0.19074922999468635  Cross-Val score :  0.1788174621457665\n",
            "Learning rate :  0.02  Train score :  0.45909849176522877  Cross-Val score :  0.3873444662203186\n",
            "Learning rate :  0.03  Train score :  0.5233462589520117  Cross-Val score :  0.4113886783864869\n",
            "Learning rate :  0.04  Train score :  0.5638347592526003  Cross-Val score :  0.41939761946258025\n",
            "Learning rate :  0.05  Train score :  0.6028737892424294  Cross-Val score :  0.4285571786415794\n",
            "Learning rate :  0.1  Train score :  0.7002443229215304  Cross-Val score :  0.44242369654016905\n",
            "Learning rate :  0.11  Train score :  0.7188867416569178  Cross-Val score :  0.4436707702744572\n",
            "Learning rate :  0.12  Train score :  0.7288273377503418  Cross-Val score :  0.43695340519612075\n",
            "Learning rate :  0.13  Train score :  0.7456087383572474  Cross-Val score :  0.4382638044991037\n",
            "Learning rate :  0.14  Train score :  0.7483881158409769  Cross-Val score :  0.4311327032759927\n",
            "Learning rate :  0.15  Train score :  0.768068151330197  Cross-Val score :  0.42549912708006377\n",
            "Learning rate :  0.2  Train score :  0.8143754716981895  Cross-Val score :  0.4356038473718818\n",
            "Learning rate :  0.5  Train score :  0.9275413460998034  Cross-Val score :  0.38863146587738495\n",
            "Learning rate :  0.7  Train score :  0.9687581820759037  Cross-Val score :  0.3529186316774754\n",
            "Learning rate :  1  Train score :  0.9866099120324351  Cross-Val score :  0.33660230605400976\n"
          ]
        }
      ]
    },
    {
      "cell_type": "code",
      "source": [
        "import warnings\n",
        "warnings.filterwarnings('ignore')\n",
        "model_XG = xgb.XGBRegressor(learning_rate = 0.11, n_estimators=100)\n",
        "model_XG.fit(x_train,y_train) #train the model\n",
        "model_XG.score(x_test, y_test) # scoring the model - r2 squared"
      ],
      "metadata": {
        "colab": {
          "base_uri": "https://localhost:8080/"
        },
        "id": "f5EiftpwHNPT",
        "outputId": "0a790761-4dfc-45c2-bb4e-452082ceb1f5"
      },
      "execution_count": 127,
      "outputs": [
        {
          "output_type": "stream",
          "name": "stdout",
          "text": [
            "[09:37:41] WARNING: /workspace/src/objective/regression_obj.cu:152: reg:linear is now deprecated in favor of reg:squarederror.\n"
          ]
        },
        {
          "output_type": "execute_result",
          "data": {
            "text/plain": [
              "0.6312551485401084"
            ]
          },
          "metadata": {},
          "execution_count": 127
        }
      ]
    },
    {
      "cell_type": "code",
      "source": [
        "XG_pred= model_XG.predict(x_test)\n",
        "Data_XG= pd.DataFrame({\"Actual\": y_test, \"Predicted\": XG_pred})\n",
        "Data_XG"
      ],
      "metadata": {
        "colab": {
          "base_uri": "https://localhost:8080/",
          "height": 424
        },
        "id": "OkXhiFyZMKwG",
        "outputId": "8b643170-40d5-4c3d-d792-9dc9c559924a"
      },
      "execution_count": 128,
      "outputs": [
        {
          "output_type": "execute_result",
          "data": {
            "text/plain": [
              "        Actual      Predicted\n",
              "0      4940.69   38741.347656\n",
              "1      3627.15   12997.277344\n",
              "2      5117.09   20907.574219\n",
              "3    462006.64  178746.734375\n",
              "4    143346.92  174947.234375\n",
              "..         ...            ...\n",
              "173   21944.48   22795.312500\n",
              "174  171169.50  181924.734375\n",
              "175  131817.82  155542.640625\n",
              "176  518077.82  202644.671875\n",
              "177   19751.71   20907.574219\n",
              "\n",
              "[178 rows x 2 columns]"
            ],
            "text/html": [
              "\n",
              "  <div id=\"df-a03dbc4d-c5d7-401b-93a2-f8cbc24a7bc8\">\n",
              "    <div class=\"colab-df-container\">\n",
              "      <div>\n",
              "<style scoped>\n",
              "    .dataframe tbody tr th:only-of-type {\n",
              "        vertical-align: middle;\n",
              "    }\n",
              "\n",
              "    .dataframe tbody tr th {\n",
              "        vertical-align: top;\n",
              "    }\n",
              "\n",
              "    .dataframe thead th {\n",
              "        text-align: right;\n",
              "    }\n",
              "</style>\n",
              "<table border=\"1\" class=\"dataframe\">\n",
              "  <thead>\n",
              "    <tr style=\"text-align: right;\">\n",
              "      <th></th>\n",
              "      <th>Actual</th>\n",
              "      <th>Predicted</th>\n",
              "    </tr>\n",
              "  </thead>\n",
              "  <tbody>\n",
              "    <tr>\n",
              "      <th>0</th>\n",
              "      <td>4940.69</td>\n",
              "      <td>38741.347656</td>\n",
              "    </tr>\n",
              "    <tr>\n",
              "      <th>1</th>\n",
              "      <td>3627.15</td>\n",
              "      <td>12997.277344</td>\n",
              "    </tr>\n",
              "    <tr>\n",
              "      <th>2</th>\n",
              "      <td>5117.09</td>\n",
              "      <td>20907.574219</td>\n",
              "    </tr>\n",
              "    <tr>\n",
              "      <th>3</th>\n",
              "      <td>462006.64</td>\n",
              "      <td>178746.734375</td>\n",
              "    </tr>\n",
              "    <tr>\n",
              "      <th>4</th>\n",
              "      <td>143346.92</td>\n",
              "      <td>174947.234375</td>\n",
              "    </tr>\n",
              "    <tr>\n",
              "      <th>...</th>\n",
              "      <td>...</td>\n",
              "      <td>...</td>\n",
              "    </tr>\n",
              "    <tr>\n",
              "      <th>173</th>\n",
              "      <td>21944.48</td>\n",
              "      <td>22795.312500</td>\n",
              "    </tr>\n",
              "    <tr>\n",
              "      <th>174</th>\n",
              "      <td>171169.50</td>\n",
              "      <td>181924.734375</td>\n",
              "    </tr>\n",
              "    <tr>\n",
              "      <th>175</th>\n",
              "      <td>131817.82</td>\n",
              "      <td>155542.640625</td>\n",
              "    </tr>\n",
              "    <tr>\n",
              "      <th>176</th>\n",
              "      <td>518077.82</td>\n",
              "      <td>202644.671875</td>\n",
              "    </tr>\n",
              "    <tr>\n",
              "      <th>177</th>\n",
              "      <td>19751.71</td>\n",
              "      <td>20907.574219</td>\n",
              "    </tr>\n",
              "  </tbody>\n",
              "</table>\n",
              "<p>178 rows × 2 columns</p>\n",
              "</div>\n",
              "      <button class=\"colab-df-convert\" onclick=\"convertToInteractive('df-a03dbc4d-c5d7-401b-93a2-f8cbc24a7bc8')\"\n",
              "              title=\"Convert this dataframe to an interactive table.\"\n",
              "              style=\"display:none;\">\n",
              "        \n",
              "  <svg xmlns=\"http://www.w3.org/2000/svg\" height=\"24px\"viewBox=\"0 0 24 24\"\n",
              "       width=\"24px\">\n",
              "    <path d=\"M0 0h24v24H0V0z\" fill=\"none\"/>\n",
              "    <path d=\"M18.56 5.44l.94 2.06.94-2.06 2.06-.94-2.06-.94-.94-2.06-.94 2.06-2.06.94zm-11 1L8.5 8.5l.94-2.06 2.06-.94-2.06-.94L8.5 2.5l-.94 2.06-2.06.94zm10 10l.94 2.06.94-2.06 2.06-.94-2.06-.94-.94-2.06-.94 2.06-2.06.94z\"/><path d=\"M17.41 7.96l-1.37-1.37c-.4-.4-.92-.59-1.43-.59-.52 0-1.04.2-1.43.59L10.3 9.45l-7.72 7.72c-.78.78-.78 2.05 0 2.83L4 21.41c.39.39.9.59 1.41.59.51 0 1.02-.2 1.41-.59l7.78-7.78 2.81-2.81c.8-.78.8-2.07 0-2.86zM5.41 20L4 18.59l7.72-7.72 1.47 1.35L5.41 20z\"/>\n",
              "  </svg>\n",
              "      </button>\n",
              "      \n",
              "  <style>\n",
              "    .colab-df-container {\n",
              "      display:flex;\n",
              "      flex-wrap:wrap;\n",
              "      gap: 12px;\n",
              "    }\n",
              "\n",
              "    .colab-df-convert {\n",
              "      background-color: #E8F0FE;\n",
              "      border: none;\n",
              "      border-radius: 50%;\n",
              "      cursor: pointer;\n",
              "      display: none;\n",
              "      fill: #1967D2;\n",
              "      height: 32px;\n",
              "      padding: 0 0 0 0;\n",
              "      width: 32px;\n",
              "    }\n",
              "\n",
              "    .colab-df-convert:hover {\n",
              "      background-color: #E2EBFA;\n",
              "      box-shadow: 0px 1px 2px rgba(60, 64, 67, 0.3), 0px 1px 3px 1px rgba(60, 64, 67, 0.15);\n",
              "      fill: #174EA6;\n",
              "    }\n",
              "\n",
              "    [theme=dark] .colab-df-convert {\n",
              "      background-color: #3B4455;\n",
              "      fill: #D2E3FC;\n",
              "    }\n",
              "\n",
              "    [theme=dark] .colab-df-convert:hover {\n",
              "      background-color: #434B5C;\n",
              "      box-shadow: 0px 1px 3px 1px rgba(0, 0, 0, 0.15);\n",
              "      filter: drop-shadow(0px 1px 2px rgba(0, 0, 0, 0.3));\n",
              "      fill: #FFFFFF;\n",
              "    }\n",
              "  </style>\n",
              "\n",
              "      <script>\n",
              "        const buttonEl =\n",
              "          document.querySelector('#df-a03dbc4d-c5d7-401b-93a2-f8cbc24a7bc8 button.colab-df-convert');\n",
              "        buttonEl.style.display =\n",
              "          google.colab.kernel.accessAllowed ? 'block' : 'none';\n",
              "\n",
              "        async function convertToInteractive(key) {\n",
              "          const element = document.querySelector('#df-a03dbc4d-c5d7-401b-93a2-f8cbc24a7bc8');\n",
              "          const dataTable =\n",
              "            await google.colab.kernel.invokeFunction('convertToInteractive',\n",
              "                                                     [key], {});\n",
              "          if (!dataTable) return;\n",
              "\n",
              "          const docLinkHtml = 'Like what you see? Visit the ' +\n",
              "            '<a target=\"_blank\" href=https://colab.research.google.com/notebooks/data_table.ipynb>data table notebook</a>'\n",
              "            + ' to learn more about interactive tables.';\n",
              "          element.innerHTML = '';\n",
              "          dataTable['output_type'] = 'display_data';\n",
              "          await google.colab.output.renderOutput(dataTable, element);\n",
              "          const docLink = document.createElement('div');\n",
              "          docLink.innerHTML = docLinkHtml;\n",
              "          element.appendChild(docLink);\n",
              "        }\n",
              "      </script>\n",
              "    </div>\n",
              "  </div>\n",
              "  "
            ]
          },
          "metadata": {},
          "execution_count": 128
        }
      ]
    },
    {
      "cell_type": "code",
      "source": [
        "from sklearn import metrics\n",
        "\n",
        "print('Mean Absolute Error:', metrics.mean_absolute_error(y_test, XG_pred))\n",
        "print('Mean Squared Error:', metrics.mean_squared_error(y_test, XG_pred))\n",
        "print('R2 :', metrics.r2_score(y_test, XG_pred)*100)"
      ],
      "metadata": {
        "colab": {
          "base_uri": "https://localhost:8080/"
        },
        "id": "iSK2eJjyMFR3",
        "outputId": "7e485f80-2947-415d-87ce-aefe87aa77e1"
      },
      "execution_count": 129,
      "outputs": [
        {
          "output_type": "stream",
          "name": "stdout",
          "text": [
            "Mean Absolute Error: 29406.208602528088\n",
            "Mean Squared Error: 2488198572.9852185\n",
            "R2 : 63.125514854010845\n"
          ]
        }
      ]
    },
    {
      "cell_type": "code",
      "source": [
        "feature = pd.Series(model_XG.feature_importances_, index = ['CR', 'DR','Month_1', 'Month_2', 'Month_3','Month_4', 'Month_5', 'Month_6', 'Month_7', 'Month_8', 'Month_9','Month_10', 'Month_11', 'Month_12']).sort_values(ascending = False)\n",
        "feature_score = feature*100\n",
        "feature_score"
      ],
      "metadata": {
        "colab": {
          "base_uri": "https://localhost:8080/"
        },
        "id": "bI_rJughbHSl",
        "outputId": "de163f82-c765-4ed6-a661-9dfa3a08182d"
      },
      "execution_count": 130,
      "outputs": [
        {
          "output_type": "execute_result",
          "data": {
            "text/plain": [
              "Month_9     27.143625\n",
              "DR          15.628767\n",
              "CR          15.611151\n",
              "Month_1     13.673941\n",
              "Month_7     12.653942\n",
              "Month_12     7.861586\n",
              "Month_5      2.888255\n",
              "Month_6      2.635744\n",
              "Month_10     1.902986\n",
              "Month_2      0.000000\n",
              "Month_3      0.000000\n",
              "Month_4      0.000000\n",
              "Month_8      0.000000\n",
              "Month_11     0.000000\n",
              "dtype: float32"
            ]
          },
          "metadata": {},
          "execution_count": 130
        }
      ]
    },
    {
      "cell_type": "markdown",
      "source": [
        "**Observations:-**\n",
        "\n",
        "1. In all the regression models the XGBOOST show maximum r-square value.\n",
        "2. So, we go with XGBOOST model."
      ],
      "metadata": {
        "id": "T8AilW_ScMUN"
      }
    }
  ]
}